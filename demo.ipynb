{
 "metadata": {
  "language_info": {
   "codemirror_mode": {
    "name": "ipython",
    "version": 3
   },
   "file_extension": ".py",
   "mimetype": "text/x-python",
   "name": "python",
   "nbconvert_exporter": "python",
   "pygments_lexer": "ipython3",
   "version": "3.8.5-final"
  },
  "orig_nbformat": 2,
  "kernelspec": {
   "name": "chu_university_venv",
   "display_name": "Chu_University_venv",
   "language": "python"
  }
 },
 "nbformat": 4,
 "nbformat_minor": 2,
 "cells": [
  {
   "cell_type": "code",
   "execution_count": 1,
   "metadata": {},
   "outputs": [],
   "source": [
    "# Import libraries\n",
    "\n",
    "import pandas as pd"
   ]
  },
  {
   "cell_type": "code",
   "execution_count": 2,
   "metadata": {},
   "outputs": [
    {
     "output_type": "execute_result",
     "data": {
      "text/plain": [
       "   age         workclass  fnlwgt  education  education-num  \\\n",
       "0   39         State-gov   77516  Bachelors             13   \n",
       "1   50  Self-emp-not-inc   83311  Bachelors             13   \n",
       "2   38           Private  215646    HS-grad              9   \n",
       "3   53           Private  234721       11th              7   \n",
       "4   28           Private  338409  Bachelors             13   \n",
       "\n",
       "       marital-status         occupation   relationship   race     sex  \\\n",
       "0       Never-married       Adm-clerical  Not-in-family  White    Male   \n",
       "1  Married-civ-spouse    Exec-managerial        Husband  White    Male   \n",
       "2            Divorced  Handlers-cleaners  Not-in-family  White    Male   \n",
       "3  Married-civ-spouse  Handlers-cleaners        Husband  Black    Male   \n",
       "4  Married-civ-spouse     Prof-specialty           Wife  Black  Female   \n",
       "\n",
       "   capital-gain  capital-loss  hours-per-week native-country salary  \n",
       "0          2174             0              40  United-States  <=50K  \n",
       "1             0             0              13  United-States  <=50K  \n",
       "2             0             0              40  United-States  <=50K  \n",
       "3             0             0              40  United-States  <=50K  \n",
       "4             0             0              40           Cuba  <=50K  "
      ],
      "text/html": "<div>\n<style scoped>\n    .dataframe tbody tr th:only-of-type {\n        vertical-align: middle;\n    }\n\n    .dataframe tbody tr th {\n        vertical-align: top;\n    }\n\n    .dataframe thead th {\n        text-align: right;\n    }\n</style>\n<table border=\"1\" class=\"dataframe\">\n  <thead>\n    <tr style=\"text-align: right;\">\n      <th></th>\n      <th>age</th>\n      <th>workclass</th>\n      <th>fnlwgt</th>\n      <th>education</th>\n      <th>education-num</th>\n      <th>marital-status</th>\n      <th>occupation</th>\n      <th>relationship</th>\n      <th>race</th>\n      <th>sex</th>\n      <th>capital-gain</th>\n      <th>capital-loss</th>\n      <th>hours-per-week</th>\n      <th>native-country</th>\n      <th>salary</th>\n    </tr>\n  </thead>\n  <tbody>\n    <tr>\n      <th>0</th>\n      <td>39</td>\n      <td>State-gov</td>\n      <td>77516</td>\n      <td>Bachelors</td>\n      <td>13</td>\n      <td>Never-married</td>\n      <td>Adm-clerical</td>\n      <td>Not-in-family</td>\n      <td>White</td>\n      <td>Male</td>\n      <td>2174</td>\n      <td>0</td>\n      <td>40</td>\n      <td>United-States</td>\n      <td>&lt;=50K</td>\n    </tr>\n    <tr>\n      <th>1</th>\n      <td>50</td>\n      <td>Self-emp-not-inc</td>\n      <td>83311</td>\n      <td>Bachelors</td>\n      <td>13</td>\n      <td>Married-civ-spouse</td>\n      <td>Exec-managerial</td>\n      <td>Husband</td>\n      <td>White</td>\n      <td>Male</td>\n      <td>0</td>\n      <td>0</td>\n      <td>13</td>\n      <td>United-States</td>\n      <td>&lt;=50K</td>\n    </tr>\n    <tr>\n      <th>2</th>\n      <td>38</td>\n      <td>Private</td>\n      <td>215646</td>\n      <td>HS-grad</td>\n      <td>9</td>\n      <td>Divorced</td>\n      <td>Handlers-cleaners</td>\n      <td>Not-in-family</td>\n      <td>White</td>\n      <td>Male</td>\n      <td>0</td>\n      <td>0</td>\n      <td>40</td>\n      <td>United-States</td>\n      <td>&lt;=50K</td>\n    </tr>\n    <tr>\n      <th>3</th>\n      <td>53</td>\n      <td>Private</td>\n      <td>234721</td>\n      <td>11th</td>\n      <td>7</td>\n      <td>Married-civ-spouse</td>\n      <td>Handlers-cleaners</td>\n      <td>Husband</td>\n      <td>Black</td>\n      <td>Male</td>\n      <td>0</td>\n      <td>0</td>\n      <td>40</td>\n      <td>United-States</td>\n      <td>&lt;=50K</td>\n    </tr>\n    <tr>\n      <th>4</th>\n      <td>28</td>\n      <td>Private</td>\n      <td>338409</td>\n      <td>Bachelors</td>\n      <td>13</td>\n      <td>Married-civ-spouse</td>\n      <td>Prof-specialty</td>\n      <td>Wife</td>\n      <td>Black</td>\n      <td>Female</td>\n      <td>0</td>\n      <td>0</td>\n      <td>40</td>\n      <td>Cuba</td>\n      <td>&lt;=50K</td>\n    </tr>\n  </tbody>\n</table>\n</div>"
     },
     "metadata": {},
     "execution_count": 2
    }
   ],
   "source": [
    "df = pd.read_csv(\"adult.data.csv\")\n",
    "df.head()"
   ]
  },
  {
   "cell_type": "code",
   "execution_count": 6,
   "metadata": {},
   "outputs": [
    {
     "output_type": "execute_result",
     "data": {
      "text/plain": [
       "                  count           mean            std      min       25%  \\\n",
       "age             32561.0      38.581647      13.640433     17.0      28.0   \n",
       "fnlwgt          32561.0  189778.366512  105549.977697  12285.0  117827.0   \n",
       "education-num   32561.0      10.080679       2.572720      1.0       9.0   \n",
       "capital-gain    32561.0    1077.648844    7385.292085      0.0       0.0   \n",
       "capital-loss    32561.0      87.303830     402.960219      0.0       0.0   \n",
       "hours-per-week  32561.0      40.437456      12.347429      1.0      40.0   \n",
       "\n",
       "                     50%       75%        max  \n",
       "age                 37.0      48.0       90.0  \n",
       "fnlwgt          178356.0  237051.0  1484705.0  \n",
       "education-num       10.0      12.0       16.0  \n",
       "capital-gain         0.0       0.0    99999.0  \n",
       "capital-loss         0.0       0.0     4356.0  \n",
       "hours-per-week      40.0      45.0       99.0  "
      ],
      "text/html": "<div>\n<style scoped>\n    .dataframe tbody tr th:only-of-type {\n        vertical-align: middle;\n    }\n\n    .dataframe tbody tr th {\n        vertical-align: top;\n    }\n\n    .dataframe thead th {\n        text-align: right;\n    }\n</style>\n<table border=\"1\" class=\"dataframe\">\n  <thead>\n    <tr style=\"text-align: right;\">\n      <th></th>\n      <th>count</th>\n      <th>mean</th>\n      <th>std</th>\n      <th>min</th>\n      <th>25%</th>\n      <th>50%</th>\n      <th>75%</th>\n      <th>max</th>\n    </tr>\n  </thead>\n  <tbody>\n    <tr>\n      <th>age</th>\n      <td>32561.0</td>\n      <td>38.581647</td>\n      <td>13.640433</td>\n      <td>17.0</td>\n      <td>28.0</td>\n      <td>37.0</td>\n      <td>48.0</td>\n      <td>90.0</td>\n    </tr>\n    <tr>\n      <th>fnlwgt</th>\n      <td>32561.0</td>\n      <td>189778.366512</td>\n      <td>105549.977697</td>\n      <td>12285.0</td>\n      <td>117827.0</td>\n      <td>178356.0</td>\n      <td>237051.0</td>\n      <td>1484705.0</td>\n    </tr>\n    <tr>\n      <th>education-num</th>\n      <td>32561.0</td>\n      <td>10.080679</td>\n      <td>2.572720</td>\n      <td>1.0</td>\n      <td>9.0</td>\n      <td>10.0</td>\n      <td>12.0</td>\n      <td>16.0</td>\n    </tr>\n    <tr>\n      <th>capital-gain</th>\n      <td>32561.0</td>\n      <td>1077.648844</td>\n      <td>7385.292085</td>\n      <td>0.0</td>\n      <td>0.0</td>\n      <td>0.0</td>\n      <td>0.0</td>\n      <td>99999.0</td>\n    </tr>\n    <tr>\n      <th>capital-loss</th>\n      <td>32561.0</td>\n      <td>87.303830</td>\n      <td>402.960219</td>\n      <td>0.0</td>\n      <td>0.0</td>\n      <td>0.0</td>\n      <td>0.0</td>\n      <td>4356.0</td>\n    </tr>\n    <tr>\n      <th>hours-per-week</th>\n      <td>32561.0</td>\n      <td>40.437456</td>\n      <td>12.347429</td>\n      <td>1.0</td>\n      <td>40.0</td>\n      <td>40.0</td>\n      <td>45.0</td>\n      <td>99.0</td>\n    </tr>\n  </tbody>\n</table>\n</div>"
     },
     "metadata": {},
     "execution_count": 6
    }
   ],
   "source": [
    "df.describe().transpose()"
   ]
  },
  {
   "source": [
    "# Questin 1\n",
    "\n",
    "How many people of each race are represented in this dataset? \n",
    "This should be a Pandas series with race names as the index labels. \n",
    "(`race` column)\n"
   ],
   "cell_type": "markdown",
   "metadata": {}
  },
  {
   "cell_type": "code",
   "execution_count": 22,
   "metadata": {},
   "outputs": [
    {
     "output_type": "execute_result",
     "data": {
      "text/plain": [
       "White                 27816\n",
       "Black                  3124\n",
       "Asian-Pac-Islander     1039\n",
       "Amer-Indian-Eskimo      311\n",
       "Other                   271\n",
       "Name: race, dtype: int64"
      ]
     },
     "metadata": {},
     "execution_count": 22
    }
   ],
   "source": [
    "race = df['race'].value_counts()\n"
   ]
  },
  {
   "source": [
    "# Qustion 2\n",
    "What is the average age of men?\n"
   ],
   "cell_type": "markdown",
   "metadata": {}
  },
  {
   "cell_type": "code",
   "execution_count": 41,
   "metadata": {},
   "outputs": [
    {
     "output_type": "execute_result",
     "data": {
      "text/plain": [
       "39"
      ]
     },
     "metadata": {},
     "execution_count": 41
    }
   ],
   "source": [
    "men_data = df[df['sex'] == 'Male']\n",
    "round(men_data['age'].mean())\n"
   ]
  },
  {
   "source": [
    "# Question 3\n",
    "What is the percentage of people who have a Bachelor's degree?"
   ],
   "cell_type": "markdown",
   "metadata": {}
  },
  {
   "cell_type": "code",
   "execution_count": 57,
   "metadata": {},
   "outputs": [
    {
     "output_type": "execute_result",
     "data": {
      "text/plain": [
       "0.16446055096587942"
      ]
     },
     "metadata": {},
     "execution_count": 57
    }
   ],
   "source": [
    "edu_percent = pd.DataFrame(df['education'].sort_values().value_counts())\n",
    "edu_percent['percentage'] = edu_percent['education']/edu_percent['education'].sum()\n",
    "bach = edu_percent['percentage'].loc['Bachelors']\n",
    "bach"
   ]
  },
  {
   "source": [
    "# Question 4\n",
    "\n",
    "What percentage of people with advanced education \n",
    "(`Bachelors`, `Masters`, or `Doctorate`) make more than 50K?"
   ],
   "cell_type": "markdown",
   "metadata": {}
  },
  {
   "cell_type": "code",
   "execution_count": 150,
   "metadata": {},
   "outputs": [],
   "source": [
    "def transform(dataframe):\n",
    "    '''\n",
    "    A function to transform the df to usable information\n",
    "    '''\n",
    "\n",
    "    edu_sal = pd.DataFrame(df[['education', 'salary']].value_counts()).rename(columns={0:'counts'}).reset_index()\n",
    "    edu_sal['percentage'] = edu_sal['counts']/edu_sal['counts'].sum()\n",
    "    return edu_sal"
   ]
  },
  {
   "cell_type": "code",
   "execution_count": 177,
   "metadata": {},
   "outputs": [],
   "source": [
    "def final_sol(dataframe):\n",
    "    '''\n",
    "    A function to pick the right education\n",
    "    levels and sum up the precentage\n",
    "    '''\n",
    "    dataframe= transform(df)\n",
    "\n",
    "    sol_list = []\n",
    "    for row in dataframe.itertuples():\n",
    "        '''\n",
    "        I am using itertuples to loop through the rows\n",
    "        '''\n",
    "        if row[1] == 'Bachelors' and row[2] == '>50K':\n",
    "            sol_list.append(row[4])\n",
    "        elif row[1] == \"Masters\" and row[2] == '>50K':\n",
    "            sol_list.append(row[4])\n",
    "        elif row[1] == \"Doctorate\" and row[2] == '>50K':\n",
    "            sol_list.append(row[4])\n",
    "\n",
    "    return round(sum(sol_list), 2)\n"
   ]
  },
  {
   "cell_type": "code",
   "execution_count": 178,
   "metadata": {},
   "outputs": [
    {
     "output_type": "execute_result",
     "data": {
      "text/plain": [
       "0.11"
      ]
     },
     "metadata": {},
     "execution_count": 178
    }
   ],
   "source": [
    "solution = final_sol(df2)\n",
    "solution"
   ]
  },
  {
   "cell_type": "code",
   "execution_count": 159,
   "metadata": {},
   "outputs": [
    {
     "output_type": "execute_result",
     "data": {
      "text/plain": [
       "       education salary  counts  percentage\n",
       "0        HS-grad  <=50K    8826    0.271060\n",
       "1   Some-college  <=50K    5904    0.181321\n",
       "2      Bachelors  <=50K    3134    0.096250\n",
       "3      Bachelors   >50K    2221    0.068210\n",
       "4        HS-grad   >50K    1675    0.051442\n",
       "5   Some-college   >50K    1387    0.042597\n",
       "6           11th  <=50K    1115    0.034243\n",
       "7      Assoc-voc  <=50K    1021    0.031357\n",
       "8        Masters   >50K     959    0.029452\n",
       "9           10th  <=50K     871    0.026750\n",
       "10    Assoc-acdm  <=50K     802    0.024631\n",
       "11       Masters  <=50K     764    0.023464\n",
       "12       7th-8th  <=50K     606    0.018611\n",
       "13           9th  <=50K     487    0.014957\n",
       "14   Prof-school   >50K     423    0.012991\n",
       "15          12th  <=50K     400    0.012285\n",
       "16     Assoc-voc   >50K     361    0.011087\n",
       "17       5th-6th  <=50K     317    0.009736\n",
       "18     Doctorate   >50K     306    0.009398\n",
       "19    Assoc-acdm   >50K     265    0.008139\n",
       "20       1st-4th  <=50K     162    0.004975\n",
       "21   Prof-school  <=50K     153    0.004699\n",
       "22     Doctorate  <=50K     107    0.003286\n",
       "23          10th   >50K      62    0.001904\n",
       "24          11th   >50K      60    0.001843\n",
       "25     Preschool  <=50K      51    0.001566\n",
       "26       7th-8th   >50K      40    0.001228\n",
       "27          12th   >50K      33    0.001013\n",
       "28           9th   >50K      27    0.000829\n",
       "29       5th-6th   >50K      16    0.000491\n",
       "30       1st-4th   >50K       6    0.000184"
      ],
      "text/html": "<div>\n<style scoped>\n    .dataframe tbody tr th:only-of-type {\n        vertical-align: middle;\n    }\n\n    .dataframe tbody tr th {\n        vertical-align: top;\n    }\n\n    .dataframe thead th {\n        text-align: right;\n    }\n</style>\n<table border=\"1\" class=\"dataframe\">\n  <thead>\n    <tr style=\"text-align: right;\">\n      <th></th>\n      <th>education</th>\n      <th>salary</th>\n      <th>counts</th>\n      <th>percentage</th>\n    </tr>\n  </thead>\n  <tbody>\n    <tr>\n      <th>0</th>\n      <td>HS-grad</td>\n      <td>&lt;=50K</td>\n      <td>8826</td>\n      <td>0.271060</td>\n    </tr>\n    <tr>\n      <th>1</th>\n      <td>Some-college</td>\n      <td>&lt;=50K</td>\n      <td>5904</td>\n      <td>0.181321</td>\n    </tr>\n    <tr>\n      <th>2</th>\n      <td>Bachelors</td>\n      <td>&lt;=50K</td>\n      <td>3134</td>\n      <td>0.096250</td>\n    </tr>\n    <tr>\n      <th>3</th>\n      <td>Bachelors</td>\n      <td>&gt;50K</td>\n      <td>2221</td>\n      <td>0.068210</td>\n    </tr>\n    <tr>\n      <th>4</th>\n      <td>HS-grad</td>\n      <td>&gt;50K</td>\n      <td>1675</td>\n      <td>0.051442</td>\n    </tr>\n    <tr>\n      <th>5</th>\n      <td>Some-college</td>\n      <td>&gt;50K</td>\n      <td>1387</td>\n      <td>0.042597</td>\n    </tr>\n    <tr>\n      <th>6</th>\n      <td>11th</td>\n      <td>&lt;=50K</td>\n      <td>1115</td>\n      <td>0.034243</td>\n    </tr>\n    <tr>\n      <th>7</th>\n      <td>Assoc-voc</td>\n      <td>&lt;=50K</td>\n      <td>1021</td>\n      <td>0.031357</td>\n    </tr>\n    <tr>\n      <th>8</th>\n      <td>Masters</td>\n      <td>&gt;50K</td>\n      <td>959</td>\n      <td>0.029452</td>\n    </tr>\n    <tr>\n      <th>9</th>\n      <td>10th</td>\n      <td>&lt;=50K</td>\n      <td>871</td>\n      <td>0.026750</td>\n    </tr>\n    <tr>\n      <th>10</th>\n      <td>Assoc-acdm</td>\n      <td>&lt;=50K</td>\n      <td>802</td>\n      <td>0.024631</td>\n    </tr>\n    <tr>\n      <th>11</th>\n      <td>Masters</td>\n      <td>&lt;=50K</td>\n      <td>764</td>\n      <td>0.023464</td>\n    </tr>\n    <tr>\n      <th>12</th>\n      <td>7th-8th</td>\n      <td>&lt;=50K</td>\n      <td>606</td>\n      <td>0.018611</td>\n    </tr>\n    <tr>\n      <th>13</th>\n      <td>9th</td>\n      <td>&lt;=50K</td>\n      <td>487</td>\n      <td>0.014957</td>\n    </tr>\n    <tr>\n      <th>14</th>\n      <td>Prof-school</td>\n      <td>&gt;50K</td>\n      <td>423</td>\n      <td>0.012991</td>\n    </tr>\n    <tr>\n      <th>15</th>\n      <td>12th</td>\n      <td>&lt;=50K</td>\n      <td>400</td>\n      <td>0.012285</td>\n    </tr>\n    <tr>\n      <th>16</th>\n      <td>Assoc-voc</td>\n      <td>&gt;50K</td>\n      <td>361</td>\n      <td>0.011087</td>\n    </tr>\n    <tr>\n      <th>17</th>\n      <td>5th-6th</td>\n      <td>&lt;=50K</td>\n      <td>317</td>\n      <td>0.009736</td>\n    </tr>\n    <tr>\n      <th>18</th>\n      <td>Doctorate</td>\n      <td>&gt;50K</td>\n      <td>306</td>\n      <td>0.009398</td>\n    </tr>\n    <tr>\n      <th>19</th>\n      <td>Assoc-acdm</td>\n      <td>&gt;50K</td>\n      <td>265</td>\n      <td>0.008139</td>\n    </tr>\n    <tr>\n      <th>20</th>\n      <td>1st-4th</td>\n      <td>&lt;=50K</td>\n      <td>162</td>\n      <td>0.004975</td>\n    </tr>\n    <tr>\n      <th>21</th>\n      <td>Prof-school</td>\n      <td>&lt;=50K</td>\n      <td>153</td>\n      <td>0.004699</td>\n    </tr>\n    <tr>\n      <th>22</th>\n      <td>Doctorate</td>\n      <td>&lt;=50K</td>\n      <td>107</td>\n      <td>0.003286</td>\n    </tr>\n    <tr>\n      <th>23</th>\n      <td>10th</td>\n      <td>&gt;50K</td>\n      <td>62</td>\n      <td>0.001904</td>\n    </tr>\n    <tr>\n      <th>24</th>\n      <td>11th</td>\n      <td>&gt;50K</td>\n      <td>60</td>\n      <td>0.001843</td>\n    </tr>\n    <tr>\n      <th>25</th>\n      <td>Preschool</td>\n      <td>&lt;=50K</td>\n      <td>51</td>\n      <td>0.001566</td>\n    </tr>\n    <tr>\n      <th>26</th>\n      <td>7th-8th</td>\n      <td>&gt;50K</td>\n      <td>40</td>\n      <td>0.001228</td>\n    </tr>\n    <tr>\n      <th>27</th>\n      <td>12th</td>\n      <td>&gt;50K</td>\n      <td>33</td>\n      <td>0.001013</td>\n    </tr>\n    <tr>\n      <th>28</th>\n      <td>9th</td>\n      <td>&gt;50K</td>\n      <td>27</td>\n      <td>0.000829</td>\n    </tr>\n    <tr>\n      <th>29</th>\n      <td>5th-6th</td>\n      <td>&gt;50K</td>\n      <td>16</td>\n      <td>0.000491</td>\n    </tr>\n    <tr>\n      <th>30</th>\n      <td>1st-4th</td>\n      <td>&gt;50K</td>\n      <td>6</td>\n      <td>0.000184</td>\n    </tr>\n  </tbody>\n</table>\n</div>"
     },
     "metadata": {},
     "execution_count": 159
    }
   ],
   "source": [
    "df2 = transform(df)\n",
    "df2"
   ]
  },
  {
   "cell_type": "code",
   "execution_count": null,
   "metadata": {},
   "outputs": [],
   "source": []
  }
 ]
}