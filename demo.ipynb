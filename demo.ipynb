{
 "metadata": {
  "language_info": {
   "codemirror_mode": {
    "name": "ipython",
    "version": 3
   },
   "file_extension": ".py",
   "mimetype": "text/x-python",
   "name": "python",
   "nbconvert_exporter": "python",
   "pygments_lexer": "ipython3",
   "version": "3.8.5-final"
  },
  "orig_nbformat": 2,
  "kernelspec": {
   "name": "chu_university_venv",
   "display_name": "Chu_University_venv",
   "language": "python"
  }
 },
 "nbformat": 4,
 "nbformat_minor": 2,
 "cells": [
  {
   "cell_type": "code",
   "execution_count": 1,
   "metadata": {},
   "outputs": [],
   "source": [
    "# Import libraries\n",
    "\n",
    "import pandas as pd"
   ]
  },
  {
   "cell_type": "code",
   "execution_count": 126,
   "metadata": {},
   "outputs": [
    {
     "output_type": "execute_result",
     "data": {
      "text/plain": [
       "   age         workclass  fnlwgt  education  education-num  \\\n",
       "0   39         State-gov   77516  Bachelors             13   \n",
       "1   50  Self-emp-not-inc   83311  Bachelors             13   \n",
       "2   38           Private  215646    HS-grad              9   \n",
       "3   53           Private  234721       11th              7   \n",
       "4   28           Private  338409  Bachelors             13   \n",
       "\n",
       "       marital-status         occupation   relationship   race     sex  \\\n",
       "0       Never-married       Adm-clerical  Not-in-family  White    Male   \n",
       "1  Married-civ-spouse    Exec-managerial        Husband  White    Male   \n",
       "2            Divorced  Handlers-cleaners  Not-in-family  White    Male   \n",
       "3  Married-civ-spouse  Handlers-cleaners        Husband  Black    Male   \n",
       "4  Married-civ-spouse     Prof-specialty           Wife  Black  Female   \n",
       "\n",
       "   capital-gain  capital-loss  hours-per-week native-country salary  \n",
       "0          2174             0              40  United-States  <=50K  \n",
       "1             0             0              13  United-States  <=50K  \n",
       "2             0             0              40  United-States  <=50K  \n",
       "3             0             0              40  United-States  <=50K  \n",
       "4             0             0              40           Cuba  <=50K  "
      ],
      "text/html": "<div>\n<style scoped>\n    .dataframe tbody tr th:only-of-type {\n        vertical-align: middle;\n    }\n\n    .dataframe tbody tr th {\n        vertical-align: top;\n    }\n\n    .dataframe thead th {\n        text-align: right;\n    }\n</style>\n<table border=\"1\" class=\"dataframe\">\n  <thead>\n    <tr style=\"text-align: right;\">\n      <th></th>\n      <th>age</th>\n      <th>workclass</th>\n      <th>fnlwgt</th>\n      <th>education</th>\n      <th>education-num</th>\n      <th>marital-status</th>\n      <th>occupation</th>\n      <th>relationship</th>\n      <th>race</th>\n      <th>sex</th>\n      <th>capital-gain</th>\n      <th>capital-loss</th>\n      <th>hours-per-week</th>\n      <th>native-country</th>\n      <th>salary</th>\n    </tr>\n  </thead>\n  <tbody>\n    <tr>\n      <th>0</th>\n      <td>39</td>\n      <td>State-gov</td>\n      <td>77516</td>\n      <td>Bachelors</td>\n      <td>13</td>\n      <td>Never-married</td>\n      <td>Adm-clerical</td>\n      <td>Not-in-family</td>\n      <td>White</td>\n      <td>Male</td>\n      <td>2174</td>\n      <td>0</td>\n      <td>40</td>\n      <td>United-States</td>\n      <td>&lt;=50K</td>\n    </tr>\n    <tr>\n      <th>1</th>\n      <td>50</td>\n      <td>Self-emp-not-inc</td>\n      <td>83311</td>\n      <td>Bachelors</td>\n      <td>13</td>\n      <td>Married-civ-spouse</td>\n      <td>Exec-managerial</td>\n      <td>Husband</td>\n      <td>White</td>\n      <td>Male</td>\n      <td>0</td>\n      <td>0</td>\n      <td>13</td>\n      <td>United-States</td>\n      <td>&lt;=50K</td>\n    </tr>\n    <tr>\n      <th>2</th>\n      <td>38</td>\n      <td>Private</td>\n      <td>215646</td>\n      <td>HS-grad</td>\n      <td>9</td>\n      <td>Divorced</td>\n      <td>Handlers-cleaners</td>\n      <td>Not-in-family</td>\n      <td>White</td>\n      <td>Male</td>\n      <td>0</td>\n      <td>0</td>\n      <td>40</td>\n      <td>United-States</td>\n      <td>&lt;=50K</td>\n    </tr>\n    <tr>\n      <th>3</th>\n      <td>53</td>\n      <td>Private</td>\n      <td>234721</td>\n      <td>11th</td>\n      <td>7</td>\n      <td>Married-civ-spouse</td>\n      <td>Handlers-cleaners</td>\n      <td>Husband</td>\n      <td>Black</td>\n      <td>Male</td>\n      <td>0</td>\n      <td>0</td>\n      <td>40</td>\n      <td>United-States</td>\n      <td>&lt;=50K</td>\n    </tr>\n    <tr>\n      <th>4</th>\n      <td>28</td>\n      <td>Private</td>\n      <td>338409</td>\n      <td>Bachelors</td>\n      <td>13</td>\n      <td>Married-civ-spouse</td>\n      <td>Prof-specialty</td>\n      <td>Wife</td>\n      <td>Black</td>\n      <td>Female</td>\n      <td>0</td>\n      <td>0</td>\n      <td>40</td>\n      <td>Cuba</td>\n      <td>&lt;=50K</td>\n    </tr>\n  </tbody>\n</table>\n</div>"
     },
     "metadata": {},
     "execution_count": 126
    }
   ],
   "source": [
    "df = pd.read_csv(\"adult.data.csv\")\n",
    "df.head()"
   ]
  },
  {
   "cell_type": "code",
   "execution_count": 3,
   "metadata": {},
   "outputs": [
    {
     "output_type": "execute_result",
     "data": {
      "text/plain": [
       "                  count           mean            std      min       25%  \\\n",
       "age             32561.0      38.581647      13.640433     17.0      28.0   \n",
       "fnlwgt          32561.0  189778.366512  105549.977697  12285.0  117827.0   \n",
       "education-num   32561.0      10.080679       2.572720      1.0       9.0   \n",
       "capital-gain    32561.0    1077.648844    7385.292085      0.0       0.0   \n",
       "capital-loss    32561.0      87.303830     402.960219      0.0       0.0   \n",
       "hours-per-week  32561.0      40.437456      12.347429      1.0      40.0   \n",
       "\n",
       "                     50%       75%        max  \n",
       "age                 37.0      48.0       90.0  \n",
       "fnlwgt          178356.0  237051.0  1484705.0  \n",
       "education-num       10.0      12.0       16.0  \n",
       "capital-gain         0.0       0.0    99999.0  \n",
       "capital-loss         0.0       0.0     4356.0  \n",
       "hours-per-week      40.0      45.0       99.0  "
      ],
      "text/html": "<div>\n<style scoped>\n    .dataframe tbody tr th:only-of-type {\n        vertical-align: middle;\n    }\n\n    .dataframe tbody tr th {\n        vertical-align: top;\n    }\n\n    .dataframe thead th {\n        text-align: right;\n    }\n</style>\n<table border=\"1\" class=\"dataframe\">\n  <thead>\n    <tr style=\"text-align: right;\">\n      <th></th>\n      <th>count</th>\n      <th>mean</th>\n      <th>std</th>\n      <th>min</th>\n      <th>25%</th>\n      <th>50%</th>\n      <th>75%</th>\n      <th>max</th>\n    </tr>\n  </thead>\n  <tbody>\n    <tr>\n      <th>age</th>\n      <td>32561.0</td>\n      <td>38.581647</td>\n      <td>13.640433</td>\n      <td>17.0</td>\n      <td>28.0</td>\n      <td>37.0</td>\n      <td>48.0</td>\n      <td>90.0</td>\n    </tr>\n    <tr>\n      <th>fnlwgt</th>\n      <td>32561.0</td>\n      <td>189778.366512</td>\n      <td>105549.977697</td>\n      <td>12285.0</td>\n      <td>117827.0</td>\n      <td>178356.0</td>\n      <td>237051.0</td>\n      <td>1484705.0</td>\n    </tr>\n    <tr>\n      <th>education-num</th>\n      <td>32561.0</td>\n      <td>10.080679</td>\n      <td>2.572720</td>\n      <td>1.0</td>\n      <td>9.0</td>\n      <td>10.0</td>\n      <td>12.0</td>\n      <td>16.0</td>\n    </tr>\n    <tr>\n      <th>capital-gain</th>\n      <td>32561.0</td>\n      <td>1077.648844</td>\n      <td>7385.292085</td>\n      <td>0.0</td>\n      <td>0.0</td>\n      <td>0.0</td>\n      <td>0.0</td>\n      <td>99999.0</td>\n    </tr>\n    <tr>\n      <th>capital-loss</th>\n      <td>32561.0</td>\n      <td>87.303830</td>\n      <td>402.960219</td>\n      <td>0.0</td>\n      <td>0.0</td>\n      <td>0.0</td>\n      <td>0.0</td>\n      <td>4356.0</td>\n    </tr>\n    <tr>\n      <th>hours-per-week</th>\n      <td>32561.0</td>\n      <td>40.437456</td>\n      <td>12.347429</td>\n      <td>1.0</td>\n      <td>40.0</td>\n      <td>40.0</td>\n      <td>45.0</td>\n      <td>99.0</td>\n    </tr>\n  </tbody>\n</table>\n</div>"
     },
     "metadata": {},
     "execution_count": 3
    }
   ],
   "source": [
    "df.describe().transpose()"
   ]
  },
  {
   "source": [
    "# Questin 1\n",
    "\n",
    "How many people of each race are represented in this dataset? \n",
    "This should be a Pandas series with race names as the index labels. \n",
    "(`race` column)\n"
   ],
   "cell_type": "markdown",
   "metadata": {}
  },
  {
   "cell_type": "code",
   "execution_count": 74,
   "metadata": {},
   "outputs": [
    {
     "output_type": "execute_result",
     "data": {
      "text/plain": [
       "[27816, 3124, 1039, 311, 271]"
      ]
     },
     "metadata": {},
     "execution_count": 74
    }
   ],
   "source": [
    "race = df['race'].value_counts().tolist()\n",
    "race\n"
   ]
  },
  {
   "source": [
    "# Qustion 2\n",
    "What is the average age of men?\n"
   ],
   "cell_type": "markdown",
   "metadata": {}
  },
  {
   "cell_type": "code",
   "execution_count": 75,
   "metadata": {},
   "outputs": [
    {
     "output_type": "execute_result",
     "data": {
      "text/plain": [
       "39.4"
      ]
     },
     "metadata": {},
     "execution_count": 75
    }
   ],
   "source": [
    "men_data = df[df['sex'] == 'Male']\n",
    "round(men_data['age'].mean(), 1)\n"
   ]
  },
  {
   "source": [
    "# Question 3\n",
    "What is the percentage of people who have a Bachelor's degree?"
   ],
   "cell_type": "markdown",
   "metadata": {}
  },
  {
   "cell_type": "code",
   "execution_count": 78,
   "metadata": {},
   "outputs": [
    {
     "output_type": "execute_result",
     "data": {
      "text/plain": [
       "16.4"
      ]
     },
     "metadata": {},
     "execution_count": 78
    }
   ],
   "source": [
    "edu_percent = pd.DataFrame(df['education'].sort_values().value_counts())\n",
    "edu_percent['percentage'] = edu_percent['education']/edu_percent['education'].sum()\n",
    "bach = round(edu_percent['percentage'].loc['Bachelors'] * 100, 1)\n",
    "bach"
   ]
  },
  {
   "source": [
    "# Question 4\n",
    "\n",
    "What percentage of people with advanced education \n",
    "(`Bachelors`, `Masters`, or `Doctorate`) make more than 50K?"
   ],
   "cell_type": "markdown",
   "metadata": {}
  },
  {
   "cell_type": "code",
   "execution_count": 7,
   "metadata": {},
   "outputs": [],
   "source": [
    "def transform(dataframe):\n",
    "    '''\n",
    "    A function to transform the df to usable information\n",
    "    '''\n",
    "\n",
    "    edu_sal = pd.DataFrame(df[['education', 'salary']].value_counts()).rename(columns={0:'counts'}).reset_index()\n",
    "    edu_sal['percentage'] = edu_sal['counts']/edu_sal['counts'].sum()\n",
    "    return edu_sal"
   ]
  },
  {
   "cell_type": "code",
   "execution_count": 36,
   "metadata": {},
   "outputs": [
    {
     "output_type": "execute_result",
     "data": {
      "text/plain": [
       "       education salary  counts  percentage\n",
       "0        HS-grad  <=50K    8826    0.271060\n",
       "1   Some-college  <=50K    5904    0.181321\n",
       "2      Bachelors  <=50K    3134    0.096250\n",
       "3      Bachelors   >50K    2221    0.068210\n",
       "4        HS-grad   >50K    1675    0.051442\n",
       "5   Some-college   >50K    1387    0.042597\n",
       "6           11th  <=50K    1115    0.034243\n",
       "7      Assoc-voc  <=50K    1021    0.031357\n",
       "8        Masters   >50K     959    0.029452\n",
       "9           10th  <=50K     871    0.026750\n",
       "10    Assoc-acdm  <=50K     802    0.024631\n",
       "11       Masters  <=50K     764    0.023464\n",
       "12       7th-8th  <=50K     606    0.018611\n",
       "13           9th  <=50K     487    0.014957\n",
       "14   Prof-school   >50K     423    0.012991\n",
       "15          12th  <=50K     400    0.012285\n",
       "16     Assoc-voc   >50K     361    0.011087\n",
       "17       5th-6th  <=50K     317    0.009736\n",
       "18     Doctorate   >50K     306    0.009398\n",
       "19    Assoc-acdm   >50K     265    0.008139\n",
       "20       1st-4th  <=50K     162    0.004975\n",
       "21   Prof-school  <=50K     153    0.004699\n",
       "22     Doctorate  <=50K     107    0.003286\n",
       "23          10th   >50K      62    0.001904\n",
       "24          11th   >50K      60    0.001843\n",
       "25     Preschool  <=50K      51    0.001566\n",
       "26       7th-8th   >50K      40    0.001228\n",
       "27          12th   >50K      33    0.001013\n",
       "28           9th   >50K      27    0.000829\n",
       "29       5th-6th   >50K      16    0.000491\n",
       "30       1st-4th   >50K       6    0.000184"
      ],
      "text/html": "<div>\n<style scoped>\n    .dataframe tbody tr th:only-of-type {\n        vertical-align: middle;\n    }\n\n    .dataframe tbody tr th {\n        vertical-align: top;\n    }\n\n    .dataframe thead th {\n        text-align: right;\n    }\n</style>\n<table border=\"1\" class=\"dataframe\">\n  <thead>\n    <tr style=\"text-align: right;\">\n      <th></th>\n      <th>education</th>\n      <th>salary</th>\n      <th>counts</th>\n      <th>percentage</th>\n    </tr>\n  </thead>\n  <tbody>\n    <tr>\n      <th>0</th>\n      <td>HS-grad</td>\n      <td>&lt;=50K</td>\n      <td>8826</td>\n      <td>0.271060</td>\n    </tr>\n    <tr>\n      <th>1</th>\n      <td>Some-college</td>\n      <td>&lt;=50K</td>\n      <td>5904</td>\n      <td>0.181321</td>\n    </tr>\n    <tr>\n      <th>2</th>\n      <td>Bachelors</td>\n      <td>&lt;=50K</td>\n      <td>3134</td>\n      <td>0.096250</td>\n    </tr>\n    <tr>\n      <th>3</th>\n      <td>Bachelors</td>\n      <td>&gt;50K</td>\n      <td>2221</td>\n      <td>0.068210</td>\n    </tr>\n    <tr>\n      <th>4</th>\n      <td>HS-grad</td>\n      <td>&gt;50K</td>\n      <td>1675</td>\n      <td>0.051442</td>\n    </tr>\n    <tr>\n      <th>5</th>\n      <td>Some-college</td>\n      <td>&gt;50K</td>\n      <td>1387</td>\n      <td>0.042597</td>\n    </tr>\n    <tr>\n      <th>6</th>\n      <td>11th</td>\n      <td>&lt;=50K</td>\n      <td>1115</td>\n      <td>0.034243</td>\n    </tr>\n    <tr>\n      <th>7</th>\n      <td>Assoc-voc</td>\n      <td>&lt;=50K</td>\n      <td>1021</td>\n      <td>0.031357</td>\n    </tr>\n    <tr>\n      <th>8</th>\n      <td>Masters</td>\n      <td>&gt;50K</td>\n      <td>959</td>\n      <td>0.029452</td>\n    </tr>\n    <tr>\n      <th>9</th>\n      <td>10th</td>\n      <td>&lt;=50K</td>\n      <td>871</td>\n      <td>0.026750</td>\n    </tr>\n    <tr>\n      <th>10</th>\n      <td>Assoc-acdm</td>\n      <td>&lt;=50K</td>\n      <td>802</td>\n      <td>0.024631</td>\n    </tr>\n    <tr>\n      <th>11</th>\n      <td>Masters</td>\n      <td>&lt;=50K</td>\n      <td>764</td>\n      <td>0.023464</td>\n    </tr>\n    <tr>\n      <th>12</th>\n      <td>7th-8th</td>\n      <td>&lt;=50K</td>\n      <td>606</td>\n      <td>0.018611</td>\n    </tr>\n    <tr>\n      <th>13</th>\n      <td>9th</td>\n      <td>&lt;=50K</td>\n      <td>487</td>\n      <td>0.014957</td>\n    </tr>\n    <tr>\n      <th>14</th>\n      <td>Prof-school</td>\n      <td>&gt;50K</td>\n      <td>423</td>\n      <td>0.012991</td>\n    </tr>\n    <tr>\n      <th>15</th>\n      <td>12th</td>\n      <td>&lt;=50K</td>\n      <td>400</td>\n      <td>0.012285</td>\n    </tr>\n    <tr>\n      <th>16</th>\n      <td>Assoc-voc</td>\n      <td>&gt;50K</td>\n      <td>361</td>\n      <td>0.011087</td>\n    </tr>\n    <tr>\n      <th>17</th>\n      <td>5th-6th</td>\n      <td>&lt;=50K</td>\n      <td>317</td>\n      <td>0.009736</td>\n    </tr>\n    <tr>\n      <th>18</th>\n      <td>Doctorate</td>\n      <td>&gt;50K</td>\n      <td>306</td>\n      <td>0.009398</td>\n    </tr>\n    <tr>\n      <th>19</th>\n      <td>Assoc-acdm</td>\n      <td>&gt;50K</td>\n      <td>265</td>\n      <td>0.008139</td>\n    </tr>\n    <tr>\n      <th>20</th>\n      <td>1st-4th</td>\n      <td>&lt;=50K</td>\n      <td>162</td>\n      <td>0.004975</td>\n    </tr>\n    <tr>\n      <th>21</th>\n      <td>Prof-school</td>\n      <td>&lt;=50K</td>\n      <td>153</td>\n      <td>0.004699</td>\n    </tr>\n    <tr>\n      <th>22</th>\n      <td>Doctorate</td>\n      <td>&lt;=50K</td>\n      <td>107</td>\n      <td>0.003286</td>\n    </tr>\n    <tr>\n      <th>23</th>\n      <td>10th</td>\n      <td>&gt;50K</td>\n      <td>62</td>\n      <td>0.001904</td>\n    </tr>\n    <tr>\n      <th>24</th>\n      <td>11th</td>\n      <td>&gt;50K</td>\n      <td>60</td>\n      <td>0.001843</td>\n    </tr>\n    <tr>\n      <th>25</th>\n      <td>Preschool</td>\n      <td>&lt;=50K</td>\n      <td>51</td>\n      <td>0.001566</td>\n    </tr>\n    <tr>\n      <th>26</th>\n      <td>7th-8th</td>\n      <td>&gt;50K</td>\n      <td>40</td>\n      <td>0.001228</td>\n    </tr>\n    <tr>\n      <th>27</th>\n      <td>12th</td>\n      <td>&gt;50K</td>\n      <td>33</td>\n      <td>0.001013</td>\n    </tr>\n    <tr>\n      <th>28</th>\n      <td>9th</td>\n      <td>&gt;50K</td>\n      <td>27</td>\n      <td>0.000829</td>\n    </tr>\n    <tr>\n      <th>29</th>\n      <td>5th-6th</td>\n      <td>&gt;50K</td>\n      <td>16</td>\n      <td>0.000491</td>\n    </tr>\n    <tr>\n      <th>30</th>\n      <td>1st-4th</td>\n      <td>&gt;50K</td>\n      <td>6</td>\n      <td>0.000184</td>\n    </tr>\n  </tbody>\n</table>\n</div>"
     },
     "metadata": {},
     "execution_count": 36
    }
   ],
   "source": [
    "df2 = transform(df)\n",
    "df2"
   ]
  },
  {
   "cell_type": "code",
   "execution_count": 58,
   "metadata": {},
   "outputs": [],
   "source": [
    "def higher_education(dataframe):\n",
    "    '''\n",
    "    A function to calculate the percentage of higher_education\n",
    "    above 50k\n",
    "    '''\n",
    "    higher_education_rich = []\n",
    "    higher_education_list = ['Bachelors', 'Masters', 'Doctorate']\n",
    "\n",
    "    for education in higher_education_list:\n",
    "        '''\n",
    "        I am using itertuples to loop through the rows\n",
    "        '''\n",
    "        for row in df2.itertuples():\n",
    "            if row[1] == education and row[2] == '>50K':\n",
    "                higher_education_rich.append(row[4])\n",
    "    return round(sum(higher_education_rich), 5)\n"
   ]
  },
  {
   "cell_type": "code",
   "execution_count": 63,
   "metadata": {},
   "outputs": [],
   "source": [
    "def lower_education(dataframe):\n",
    "    '''\n",
    "    A function to calculate the percentage of higher_education\n",
    "    above 50k\n",
    "    '''\n",
    "    lower_education_rich = []\n",
    "    higher_education_list = ['Bachelors', 'Masters', 'Doctorate']\n",
    "\n",
    "    for education in higher_education_list:\n",
    "        '''\n",
    "        I am using itertuples to loop through the rows\n",
    "        '''\n",
    "        for row in df2.itertuples():\n",
    "            if row[1] != education and row[2] == '>50K':\n",
    "                lower_education_rich.append(row[4])\n",
    "    return round(sum(lower_education_rich), 4)\n"
   ]
  },
  {
   "cell_type": "code",
   "execution_count": 79,
   "metadata": {},
   "outputs": [
    {
     "output_type": "execute_result",
     "data": {
      "text/plain": [
       "10.706"
      ]
     },
     "metadata": {},
     "execution_count": 79
    }
   ],
   "source": [
    "test1 = higher_education(df2) * 100\n",
    "test1"
   ]
  },
  {
   "cell_type": "code",
   "execution_count": 80,
   "metadata": {},
   "outputs": [
    {
     "output_type": "execute_result",
     "data": {
      "text/plain": [
       "61.53999999999999"
      ]
     },
     "metadata": {},
     "execution_count": 80
    }
   ],
   "source": [
    "test2 = lower_education(df2) * 100\n",
    "test2"
   ]
  },
  {
   "source": [
    "# Question 5\n",
    "\n",
    "What is the minimum number of hours a person works per week (hours-per-week feature)?"
   ],
   "cell_type": "markdown",
   "metadata": {}
  },
  {
   "cell_type": "code",
   "execution_count": 87,
   "metadata": {},
   "outputs": [
    {
     "output_type": "execute_result",
     "data": {
      "text/plain": [
       "       salary\n",
       "<=50K      18\n",
       ">50K        2"
      ],
      "text/html": "<div>\n<style scoped>\n    .dataframe tbody tr th:only-of-type {\n        vertical-align: middle;\n    }\n\n    .dataframe tbody tr th {\n        vertical-align: top;\n    }\n\n    .dataframe thead th {\n        text-align: right;\n    }\n</style>\n<table border=\"1\" class=\"dataframe\">\n  <thead>\n    <tr style=\"text-align: right;\">\n      <th></th>\n      <th>salary</th>\n    </tr>\n  </thead>\n  <tbody>\n    <tr>\n      <th>&lt;=50K</th>\n      <td>18</td>\n    </tr>\n    <tr>\n      <th>&gt;50K</th>\n      <td>2</td>\n    </tr>\n  </tbody>\n</table>\n</div>"
     },
     "metadata": {},
     "execution_count": 87
    }
   ],
   "source": [
    "min_hr = pd.DataFrame(df[df['hours-per-week']== 1]['salary'].value_counts()) \n",
    "min_hr"
   ]
  },
  {
   "cell_type": "code",
   "execution_count": 97,
   "metadata": {},
   "outputs": [],
   "source": [
    "def percentage (data):\n",
    "    '''\n",
    "    A function to calculate percentage.\n",
    "\n",
    "    '''\n",
    "    col = data.columns\n",
    "    data['percentage'] = data[col[0]]/data[col[0]].sum() * 100\n",
    "    return pd.DataFrame(data['percentage']) \n"
   ]
  },
  {
   "cell_type": "code",
   "execution_count": 100,
   "metadata": {},
   "outputs": [
    {
     "output_type": "execute_result",
     "data": {
      "text/plain": [
       "      percentage\n",
       ">50K        10.0"
      ],
      "text/html": "<div>\n<style scoped>\n    .dataframe tbody tr th:only-of-type {\n        vertical-align: middle;\n    }\n\n    .dataframe tbody tr th {\n        vertical-align: top;\n    }\n\n    .dataframe thead th {\n        text-align: right;\n    }\n</style>\n<table border=\"1\" class=\"dataframe\">\n  <thead>\n    <tr style=\"text-align: right;\">\n      <th></th>\n      <th>percentage</th>\n    </tr>\n  </thead>\n  <tbody>\n    <tr>\n      <th>&gt;50K</th>\n      <td>10.0</td>\n    </tr>\n  </tbody>\n</table>\n</div>"
     },
     "metadata": {},
     "execution_count": 100
    }
   ],
   "source": [
    "test = percentage(min_hr)\n",
    "result = test.loc['>50K':]\n",
    "result"
   ]
  },
  {
   "source": [
    "# Question 6\n",
    "\n",
    "What country has the highest percentage of people that earn >50K and what is that percentage?"
   ],
   "cell_type": "markdown",
   "metadata": {}
  },
  {
   "cell_type": "code",
   "execution_count": 123,
   "metadata": {},
   "outputs": [
    {
     "output_type": "execute_result",
     "data": {
      "text/plain": [
       "        native-country salary  counts  percentage\n",
       "1        United-States   >50K    7171   91.455172\n",
       "4                    ?   >50K     146    1.862007\n",
       "15         Philippines   >50K      61    0.777962\n",
       "23             Germany   >50K      44    0.561153\n",
       "24               India   >50K      40    0.510139\n",
       "26              Canada   >50K      39    0.497386\n",
       "28              Mexico   >50K      33    0.420865\n",
       "32             England   >50K      30    0.382604\n",
       "34               Italy   >50K      25    0.318837\n",
       "36                Cuba   >50K      25    0.318837\n",
       "38               Japan   >50K      24    0.306083\n",
       "40              Taiwan   >50K      20    0.255070\n",
       "41               China   >50K      20    0.255070\n",
       "43                Iran   >50K      18    0.229563\n",
       "46               South   >50K      16    0.204056\n",
       "53         Puerto-Rico   >50K      12    0.153042\n",
       "54              Poland   >50K      12    0.153042\n",
       "55              France   >50K      12    0.153042\n",
       "56             Jamaica   >50K      10    0.127535\n",
       "59         El-Salvador   >50K       9    0.114781\n",
       "61              Greece   >50K       8    0.102028\n",
       "62            Cambodia   >50K       7    0.089274\n",
       "63          Yugoslavia   >50K       6    0.076521\n",
       "64                Hong   >50K       6    0.076521\n",
       "65             Ireland   >50K       5    0.063767\n",
       "66             Vietnam   >50K       5    0.063767\n",
       "67               Haiti   >50K       4    0.051014\n",
       "68             Ecuador   >50K       4    0.051014\n",
       "69            Portugal   >50K       4    0.051014\n",
       "70            Thailand   >50K       3    0.038260\n",
       "71             Hungary   >50K       3    0.038260\n",
       "72            Scotland   >50K       3    0.038260\n",
       "73           Guatemala   >50K       3    0.038260\n",
       "74            Columbia   >50K       2    0.025507\n",
       "75           Nicaragua   >50K       2    0.025507\n",
       "76     Trinadad&Tobago   >50K       2    0.025507\n",
       "77                Laos   >50K       2    0.025507\n",
       "78  Dominican-Republic   >50K       2    0.025507\n",
       "79                Peru   >50K       2    0.025507\n",
       "81            Honduras   >50K       1    0.012753"
      ],
      "text/html": "<div>\n<style scoped>\n    .dataframe tbody tr th:only-of-type {\n        vertical-align: middle;\n    }\n\n    .dataframe tbody tr th {\n        vertical-align: top;\n    }\n\n    .dataframe thead th {\n        text-align: right;\n    }\n</style>\n<table border=\"1\" class=\"dataframe\">\n  <thead>\n    <tr style=\"text-align: right;\">\n      <th></th>\n      <th>native-country</th>\n      <th>salary</th>\n      <th>counts</th>\n      <th>percentage</th>\n    </tr>\n  </thead>\n  <tbody>\n    <tr>\n      <th>1</th>\n      <td>United-States</td>\n      <td>&gt;50K</td>\n      <td>7171</td>\n      <td>91.455172</td>\n    </tr>\n    <tr>\n      <th>4</th>\n      <td>?</td>\n      <td>&gt;50K</td>\n      <td>146</td>\n      <td>1.862007</td>\n    </tr>\n    <tr>\n      <th>15</th>\n      <td>Philippines</td>\n      <td>&gt;50K</td>\n      <td>61</td>\n      <td>0.777962</td>\n    </tr>\n    <tr>\n      <th>23</th>\n      <td>Germany</td>\n      <td>&gt;50K</td>\n      <td>44</td>\n      <td>0.561153</td>\n    </tr>\n    <tr>\n      <th>24</th>\n      <td>India</td>\n      <td>&gt;50K</td>\n      <td>40</td>\n      <td>0.510139</td>\n    </tr>\n    <tr>\n      <th>26</th>\n      <td>Canada</td>\n      <td>&gt;50K</td>\n      <td>39</td>\n      <td>0.497386</td>\n    </tr>\n    <tr>\n      <th>28</th>\n      <td>Mexico</td>\n      <td>&gt;50K</td>\n      <td>33</td>\n      <td>0.420865</td>\n    </tr>\n    <tr>\n      <th>32</th>\n      <td>England</td>\n      <td>&gt;50K</td>\n      <td>30</td>\n      <td>0.382604</td>\n    </tr>\n    <tr>\n      <th>34</th>\n      <td>Italy</td>\n      <td>&gt;50K</td>\n      <td>25</td>\n      <td>0.318837</td>\n    </tr>\n    <tr>\n      <th>36</th>\n      <td>Cuba</td>\n      <td>&gt;50K</td>\n      <td>25</td>\n      <td>0.318837</td>\n    </tr>\n    <tr>\n      <th>38</th>\n      <td>Japan</td>\n      <td>&gt;50K</td>\n      <td>24</td>\n      <td>0.306083</td>\n    </tr>\n    <tr>\n      <th>40</th>\n      <td>Taiwan</td>\n      <td>&gt;50K</td>\n      <td>20</td>\n      <td>0.255070</td>\n    </tr>\n    <tr>\n      <th>41</th>\n      <td>China</td>\n      <td>&gt;50K</td>\n      <td>20</td>\n      <td>0.255070</td>\n    </tr>\n    <tr>\n      <th>43</th>\n      <td>Iran</td>\n      <td>&gt;50K</td>\n      <td>18</td>\n      <td>0.229563</td>\n    </tr>\n    <tr>\n      <th>46</th>\n      <td>South</td>\n      <td>&gt;50K</td>\n      <td>16</td>\n      <td>0.204056</td>\n    </tr>\n    <tr>\n      <th>53</th>\n      <td>Puerto-Rico</td>\n      <td>&gt;50K</td>\n      <td>12</td>\n      <td>0.153042</td>\n    </tr>\n    <tr>\n      <th>54</th>\n      <td>Poland</td>\n      <td>&gt;50K</td>\n      <td>12</td>\n      <td>0.153042</td>\n    </tr>\n    <tr>\n      <th>55</th>\n      <td>France</td>\n      <td>&gt;50K</td>\n      <td>12</td>\n      <td>0.153042</td>\n    </tr>\n    <tr>\n      <th>56</th>\n      <td>Jamaica</td>\n      <td>&gt;50K</td>\n      <td>10</td>\n      <td>0.127535</td>\n    </tr>\n    <tr>\n      <th>59</th>\n      <td>El-Salvador</td>\n      <td>&gt;50K</td>\n      <td>9</td>\n      <td>0.114781</td>\n    </tr>\n    <tr>\n      <th>61</th>\n      <td>Greece</td>\n      <td>&gt;50K</td>\n      <td>8</td>\n      <td>0.102028</td>\n    </tr>\n    <tr>\n      <th>62</th>\n      <td>Cambodia</td>\n      <td>&gt;50K</td>\n      <td>7</td>\n      <td>0.089274</td>\n    </tr>\n    <tr>\n      <th>63</th>\n      <td>Yugoslavia</td>\n      <td>&gt;50K</td>\n      <td>6</td>\n      <td>0.076521</td>\n    </tr>\n    <tr>\n      <th>64</th>\n      <td>Hong</td>\n      <td>&gt;50K</td>\n      <td>6</td>\n      <td>0.076521</td>\n    </tr>\n    <tr>\n      <th>65</th>\n      <td>Ireland</td>\n      <td>&gt;50K</td>\n      <td>5</td>\n      <td>0.063767</td>\n    </tr>\n    <tr>\n      <th>66</th>\n      <td>Vietnam</td>\n      <td>&gt;50K</td>\n      <td>5</td>\n      <td>0.063767</td>\n    </tr>\n    <tr>\n      <th>67</th>\n      <td>Haiti</td>\n      <td>&gt;50K</td>\n      <td>4</td>\n      <td>0.051014</td>\n    </tr>\n    <tr>\n      <th>68</th>\n      <td>Ecuador</td>\n      <td>&gt;50K</td>\n      <td>4</td>\n      <td>0.051014</td>\n    </tr>\n    <tr>\n      <th>69</th>\n      <td>Portugal</td>\n      <td>&gt;50K</td>\n      <td>4</td>\n      <td>0.051014</td>\n    </tr>\n    <tr>\n      <th>70</th>\n      <td>Thailand</td>\n      <td>&gt;50K</td>\n      <td>3</td>\n      <td>0.038260</td>\n    </tr>\n    <tr>\n      <th>71</th>\n      <td>Hungary</td>\n      <td>&gt;50K</td>\n      <td>3</td>\n      <td>0.038260</td>\n    </tr>\n    <tr>\n      <th>72</th>\n      <td>Scotland</td>\n      <td>&gt;50K</td>\n      <td>3</td>\n      <td>0.038260</td>\n    </tr>\n    <tr>\n      <th>73</th>\n      <td>Guatemala</td>\n      <td>&gt;50K</td>\n      <td>3</td>\n      <td>0.038260</td>\n    </tr>\n    <tr>\n      <th>74</th>\n      <td>Columbia</td>\n      <td>&gt;50K</td>\n      <td>2</td>\n      <td>0.025507</td>\n    </tr>\n    <tr>\n      <th>75</th>\n      <td>Nicaragua</td>\n      <td>&gt;50K</td>\n      <td>2</td>\n      <td>0.025507</td>\n    </tr>\n    <tr>\n      <th>76</th>\n      <td>Trinadad&amp;Tobago</td>\n      <td>&gt;50K</td>\n      <td>2</td>\n      <td>0.025507</td>\n    </tr>\n    <tr>\n      <th>77</th>\n      <td>Laos</td>\n      <td>&gt;50K</td>\n      <td>2</td>\n      <td>0.025507</td>\n    </tr>\n    <tr>\n      <th>78</th>\n      <td>Dominican-Republic</td>\n      <td>&gt;50K</td>\n      <td>2</td>\n      <td>0.025507</td>\n    </tr>\n    <tr>\n      <th>79</th>\n      <td>Peru</td>\n      <td>&gt;50K</td>\n      <td>2</td>\n      <td>0.025507</td>\n    </tr>\n    <tr>\n      <th>81</th>\n      <td>Honduras</td>\n      <td>&gt;50K</td>\n      <td>1</td>\n      <td>0.012753</td>\n    </tr>\n  </tbody>\n</table>\n</div>"
     },
     "metadata": {},
     "execution_count": 123
    }
   ],
   "source": [
    "que_6 = df[['native-country', 'salary']]\n",
    "que_6v = pd.DataFrame(que_6.value_counts()).rename({0:'counts'}, axis=1).reset_index()\n",
    "que_6v = que_6v[que_6v['salary'] == '>50K']\n",
    "que_6v['percentage'] = que_6v['counts']/que_6v['counts'].sum() * 100\n",
    "que_6v\n"
   ]
  },
  {
   "source": [
    "# Question 7\n",
    "\n",
    "Identify the most popular occupation for those who earn >50K in India. "
   ],
   "cell_type": "markdown",
   "metadata": {}
  },
  {
   "cell_type": "code",
   "execution_count": 163,
   "metadata": {},
   "outputs": [
    {
     "output_type": "execute_result",
     "data": {
      "text/plain": [
       "'Prof-specialty'"
      ]
     },
     "metadata": {},
     "execution_count": 163
    }
   ],
   "source": [
    "que_7 = df[df['native-country'] == 'India']\n",
    "que_7 = que_7[que_7['salary'] == '>50K']\n",
    "que_7 = pd.DataFrame(que_7[['occupation', 'salary']])\n",
    "que_7 = pd.DataFrame(que_7.value_counts()).rename({0:'counts'}, axis=1).reset_index()\n",
    "answer = que_7[que_7['counts'] == 25]\n",
    "answer = answer['occupation'].tolist()\n",
    "answer[0]"
   ]
  },
  {
   "cell_type": "code",
   "execution_count": null,
   "metadata": {},
   "outputs": [],
   "source": [
    "que_7 = max(que_7[0])\n",
    "que_7"
   ]
  }
 ]
}