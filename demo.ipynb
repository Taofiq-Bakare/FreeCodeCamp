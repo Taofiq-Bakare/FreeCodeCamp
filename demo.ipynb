{
 "metadata": {
  "language_info": {
   "codemirror_mode": {
    "name": "ipython",
    "version": 3
   },
   "file_extension": ".py",
   "mimetype": "text/x-python",
   "name": "python",
   "nbconvert_exporter": "python",
   "pygments_lexer": "ipython3",
   "version": "3.8.5-final"
  },
  "orig_nbformat": 2,
  "kernelspec": {
   "name": "chu_university_venv",
   "display_name": "Chu_University_venv",
   "language": "python"
  }
 },
 "nbformat": 4,
 "nbformat_minor": 2,
 "cells": [
  {
   "cell_type": "code",
   "execution_count": 1,
   "metadata": {},
   "outputs": [],
   "source": [
    "# Import libraries\n",
    "\n",
    "import pandas as pd"
   ]
  },
  {
   "cell_type": "code",
   "execution_count": 126,
   "metadata": {},
   "outputs": [
    {
     "output_type": "execute_result",
     "data": {
      "text/plain": [
       "   age         workclass  fnlwgt  education  education-num  \\\n",
       "0   39         State-gov   77516  Bachelors             13   \n",
       "1   50  Self-emp-not-inc   83311  Bachelors             13   \n",
       "2   38           Private  215646    HS-grad              9   \n",
       "3   53           Private  234721       11th              7   \n",
       "4   28           Private  338409  Bachelors             13   \n",
       "\n",
       "       marital-status         occupation   relationship   race     sex  \\\n",
       "0       Never-married       Adm-clerical  Not-in-family  White    Male   \n",
       "1  Married-civ-spouse    Exec-managerial        Husband  White    Male   \n",
       "2            Divorced  Handlers-cleaners  Not-in-family  White    Male   \n",
       "3  Married-civ-spouse  Handlers-cleaners        Husband  Black    Male   \n",
       "4  Married-civ-spouse     Prof-specialty           Wife  Black  Female   \n",
       "\n",
       "   capital-gain  capital-loss  hours-per-week native-country salary  \n",
       "0          2174             0              40  United-States  <=50K  \n",
       "1             0             0              13  United-States  <=50K  \n",
       "2             0             0              40  United-States  <=50K  \n",
       "3             0             0              40  United-States  <=50K  \n",
       "4             0             0              40           Cuba  <=50K  "
      ],
      "text/html": "<div>\n<style scoped>\n    .dataframe tbody tr th:only-of-type {\n        vertical-align: middle;\n    }\n\n    .dataframe tbody tr th {\n        vertical-align: top;\n    }\n\n    .dataframe thead th {\n        text-align: right;\n    }\n</style>\n<table border=\"1\" class=\"dataframe\">\n  <thead>\n    <tr style=\"text-align: right;\">\n      <th></th>\n      <th>age</th>\n      <th>workclass</th>\n      <th>fnlwgt</th>\n      <th>education</th>\n      <th>education-num</th>\n      <th>marital-status</th>\n      <th>occupation</th>\n      <th>relationship</th>\n      <th>race</th>\n      <th>sex</th>\n      <th>capital-gain</th>\n      <th>capital-loss</th>\n      <th>hours-per-week</th>\n      <th>native-country</th>\n      <th>salary</th>\n    </tr>\n  </thead>\n  <tbody>\n    <tr>\n      <th>0</th>\n      <td>39</td>\n      <td>State-gov</td>\n      <td>77516</td>\n      <td>Bachelors</td>\n      <td>13</td>\n      <td>Never-married</td>\n      <td>Adm-clerical</td>\n      <td>Not-in-family</td>\n      <td>White</td>\n      <td>Male</td>\n      <td>2174</td>\n      <td>0</td>\n      <td>40</td>\n      <td>United-States</td>\n      <td>&lt;=50K</td>\n    </tr>\n    <tr>\n      <th>1</th>\n      <td>50</td>\n      <td>Self-emp-not-inc</td>\n      <td>83311</td>\n      <td>Bachelors</td>\n      <td>13</td>\n      <td>Married-civ-spouse</td>\n      <td>Exec-managerial</td>\n      <td>Husband</td>\n      <td>White</td>\n      <td>Male</td>\n      <td>0</td>\n      <td>0</td>\n      <td>13</td>\n      <td>United-States</td>\n      <td>&lt;=50K</td>\n    </tr>\n    <tr>\n      <th>2</th>\n      <td>38</td>\n      <td>Private</td>\n      <td>215646</td>\n      <td>HS-grad</td>\n      <td>9</td>\n      <td>Divorced</td>\n      <td>Handlers-cleaners</td>\n      <td>Not-in-family</td>\n      <td>White</td>\n      <td>Male</td>\n      <td>0</td>\n      <td>0</td>\n      <td>40</td>\n      <td>United-States</td>\n      <td>&lt;=50K</td>\n    </tr>\n    <tr>\n      <th>3</th>\n      <td>53</td>\n      <td>Private</td>\n      <td>234721</td>\n      <td>11th</td>\n      <td>7</td>\n      <td>Married-civ-spouse</td>\n      <td>Handlers-cleaners</td>\n      <td>Husband</td>\n      <td>Black</td>\n      <td>Male</td>\n      <td>0</td>\n      <td>0</td>\n      <td>40</td>\n      <td>United-States</td>\n      <td>&lt;=50K</td>\n    </tr>\n    <tr>\n      <th>4</th>\n      <td>28</td>\n      <td>Private</td>\n      <td>338409</td>\n      <td>Bachelors</td>\n      <td>13</td>\n      <td>Married-civ-spouse</td>\n      <td>Prof-specialty</td>\n      <td>Wife</td>\n      <td>Black</td>\n      <td>Female</td>\n      <td>0</td>\n      <td>0</td>\n      <td>40</td>\n      <td>Cuba</td>\n      <td>&lt;=50K</td>\n    </tr>\n  </tbody>\n</table>\n</div>"
     },
     "metadata": {},
     "execution_count": 126
    }
   ],
   "source": [
    "df = pd.read_csv(\"adult.data.csv\")\n",
    "df.head()"
   ]
  },
  {
   "cell_type": "code",
   "execution_count": 3,
   "metadata": {},
   "outputs": [
    {
     "output_type": "execute_result",
     "data": {
      "text/plain": [
       "                  count           mean            std      min       25%  \\\n",
       "age             32561.0      38.581647      13.640433     17.0      28.0   \n",
       "fnlwgt          32561.0  189778.366512  105549.977697  12285.0  117827.0   \n",
       "education-num   32561.0      10.080679       2.572720      1.0       9.0   \n",
       "capital-gain    32561.0    1077.648844    7385.292085      0.0       0.0   \n",
       "capital-loss    32561.0      87.303830     402.960219      0.0       0.0   \n",
       "hours-per-week  32561.0      40.437456      12.347429      1.0      40.0   \n",
       "\n",
       "                     50%       75%        max  \n",
       "age                 37.0      48.0       90.0  \n",
       "fnlwgt          178356.0  237051.0  1484705.0  \n",
       "education-num       10.0      12.0       16.0  \n",
       "capital-gain         0.0       0.0    99999.0  \n",
       "capital-loss         0.0       0.0     4356.0  \n",
       "hours-per-week      40.0      45.0       99.0  "
      ],
      "text/html": "<div>\n<style scoped>\n    .dataframe tbody tr th:only-of-type {\n        vertical-align: middle;\n    }\n\n    .dataframe tbody tr th {\n        vertical-align: top;\n    }\n\n    .dataframe thead th {\n        text-align: right;\n    }\n</style>\n<table border=\"1\" class=\"dataframe\">\n  <thead>\n    <tr style=\"text-align: right;\">\n      <th></th>\n      <th>count</th>\n      <th>mean</th>\n      <th>std</th>\n      <th>min</th>\n      <th>25%</th>\n      <th>50%</th>\n      <th>75%</th>\n      <th>max</th>\n    </tr>\n  </thead>\n  <tbody>\n    <tr>\n      <th>age</th>\n      <td>32561.0</td>\n      <td>38.581647</td>\n      <td>13.640433</td>\n      <td>17.0</td>\n      <td>28.0</td>\n      <td>37.0</td>\n      <td>48.0</td>\n      <td>90.0</td>\n    </tr>\n    <tr>\n      <th>fnlwgt</th>\n      <td>32561.0</td>\n      <td>189778.366512</td>\n      <td>105549.977697</td>\n      <td>12285.0</td>\n      <td>117827.0</td>\n      <td>178356.0</td>\n      <td>237051.0</td>\n      <td>1484705.0</td>\n    </tr>\n    <tr>\n      <th>education-num</th>\n      <td>32561.0</td>\n      <td>10.080679</td>\n      <td>2.572720</td>\n      <td>1.0</td>\n      <td>9.0</td>\n      <td>10.0</td>\n      <td>12.0</td>\n      <td>16.0</td>\n    </tr>\n    <tr>\n      <th>capital-gain</th>\n      <td>32561.0</td>\n      <td>1077.648844</td>\n      <td>7385.292085</td>\n      <td>0.0</td>\n      <td>0.0</td>\n      <td>0.0</td>\n      <td>0.0</td>\n      <td>99999.0</td>\n    </tr>\n    <tr>\n      <th>capital-loss</th>\n      <td>32561.0</td>\n      <td>87.303830</td>\n      <td>402.960219</td>\n      <td>0.0</td>\n      <td>0.0</td>\n      <td>0.0</td>\n      <td>0.0</td>\n      <td>4356.0</td>\n    </tr>\n    <tr>\n      <th>hours-per-week</th>\n      <td>32561.0</td>\n      <td>40.437456</td>\n      <td>12.347429</td>\n      <td>1.0</td>\n      <td>40.0</td>\n      <td>40.0</td>\n      <td>45.0</td>\n      <td>99.0</td>\n    </tr>\n  </tbody>\n</table>\n</div>"
     },
     "metadata": {},
     "execution_count": 3
    }
   ],
   "source": [
    "df.describe().transpose()"
   ]
  },
  {
   "source": [
    "# Question 1\n",
    "\n",
    "How many people of each race are represented in this dataset? \n",
    "This should be a Pandas series with race names as the index labels. \n",
    "(`race` column)\n"
   ],
   "cell_type": "markdown",
   "metadata": {}
  },
  {
   "cell_type": "code",
   "execution_count": 74,
   "metadata": {},
   "outputs": [
    {
     "output_type": "execute_result",
     "data": {
      "text/plain": [
       "[27816, 3124, 1039, 311, 271]"
      ]
     },
     "metadata": {},
     "execution_count": 74
    }
   ],
   "source": [
    "race = df['race'].value_counts().tolist()\n",
    "race\n"
   ]
  },
  {
   "source": [
    "# Qustion 2\n",
    "What is the average age of men?\n"
   ],
   "cell_type": "markdown",
   "metadata": {}
  },
  {
   "cell_type": "code",
   "execution_count": 258,
   "metadata": {},
   "outputs": [
    {
     "output_type": "execute_result",
     "data": {
      "text/plain": [
       "39.4"
      ]
     },
     "metadata": {},
     "execution_count": 258
    }
   ],
   "source": [
    "men_data = df[df['sex'] == 'Male']\n",
    "round(men_data['age'].mean(), 1)\n"
   ]
  },
  {
   "source": [
    "# Question 3\n",
    "What is the percentage of people who have a Bachelor's degree?"
   ],
   "cell_type": "markdown",
   "metadata": {}
  },
  {
   "cell_type": "code",
   "execution_count": 78,
   "metadata": {},
   "outputs": [
    {
     "output_type": "execute_result",
     "data": {
      "text/plain": [
       "16.4"
      ]
     },
     "metadata": {},
     "execution_count": 78
    }
   ],
   "source": [
    "edu_percent = pd.DataFrame(df['education'].sort_values().value_counts())\n",
    "edu_percent['percentage'] = edu_percent['education']/edu_percent['education'].sum()\n",
    "bach = round(edu_percent['percentage'].loc['Bachelors'] * 100, 1)\n",
    "bach"
   ]
  },
  {
   "source": [
    "# Question 4\n",
    "\n",
    "What percentage of people with advanced education \n",
    "(`Bachelors`, `Masters`, or `Doctorate`) make more than 50K?"
   ],
   "cell_type": "markdown",
   "metadata": {}
  },
  {
   "cell_type": "code",
   "execution_count": 259,
   "metadata": {},
   "outputs": [],
   "source": [
    "def transform(dataframe):\n",
    "    '''\n",
    "    A function to transform the df to usable information\n",
    "    '''\n",
    "\n",
    "    edu_sal = pd.DataFrame(df[['education', 'salary']].value_counts()).rename(columns={0:'counts'}).reset_index()\n",
    "    edu_sal['percentage'] = edu_sal['counts']/edu_sal['counts'].sum()\n",
    "    return edu_sal"
   ]
  },
  {
   "cell_type": "code",
   "execution_count": 267,
   "metadata": {},
   "outputs": [
    {
     "output_type": "execute_result",
     "data": {
      "text/plain": [
       "      education salary  counts  percentage\n",
       "0       HS-grad  <=50K    8826    0.271060\n",
       "1  Some-college  <=50K    5904    0.181321"
      ],
      "text/html": "<div>\n<style scoped>\n    .dataframe tbody tr th:only-of-type {\n        vertical-align: middle;\n    }\n\n    .dataframe tbody tr th {\n        vertical-align: top;\n    }\n\n    .dataframe thead th {\n        text-align: right;\n    }\n</style>\n<table border=\"1\" class=\"dataframe\">\n  <thead>\n    <tr style=\"text-align: right;\">\n      <th></th>\n      <th>education</th>\n      <th>salary</th>\n      <th>counts</th>\n      <th>percentage</th>\n    </tr>\n  </thead>\n  <tbody>\n    <tr>\n      <th>0</th>\n      <td>HS-grad</td>\n      <td>&lt;=50K</td>\n      <td>8826</td>\n      <td>0.271060</td>\n    </tr>\n    <tr>\n      <th>1</th>\n      <td>Some-college</td>\n      <td>&lt;=50K</td>\n      <td>5904</td>\n      <td>0.181321</td>\n    </tr>\n  </tbody>\n</table>\n</div>"
     },
     "metadata": {},
     "execution_count": 267
    }
   ],
   "source": [
    "df2.head(2)"
   ]
  },
  {
   "cell_type": "code",
   "execution_count": 260,
   "metadata": {},
   "outputs": [],
   "source": [
    "def higher_education(dataframe):\n",
    "    '''\n",
    "    A function to calculate the percentage of higher_education\n",
    "    above 50k\n",
    "    '''\n",
    "    higher_education_rich = []\n",
    "    higher_education_list = ['Bachelors', 'Masters', 'Doctorate']\n",
    "\n",
    "    for education in higher_education_list:\n",
    "        '''\n",
    "        I am using itertuples to loop through the rows\n",
    "        '''\n",
    "        for row in df2.itertuples():\n",
    "            if row[1] == education and row[2] == '>50K':\n",
    "                higher_education_rich.append(row[4])\n",
    "    return round(sum(higher_education_rich), 1) * 100\n"
   ]
  },
  {
   "cell_type": "code",
   "execution_count": 261,
   "metadata": {},
   "outputs": [],
   "source": [
    "def lower_education(dataframe):\n",
    "    '''\n",
    "    A function to calculate the percentage of higher_education\n",
    "    above 50k\n",
    "    '''\n",
    "    lower_education_rich = []\n",
    "    higher_education_list = ['Bachelors', 'Masters', 'Doctorate']\n",
    "\n",
    "    for education in higher_education_list:\n",
    "        '''\n",
    "        I am using itertuples to loop through the rows\n",
    "        '''\n",
    "        for row in df2.itertuples():\n",
    "            if row[1] != education and row[2] == '>50K':\n",
    "                lower_education_rich.append(row[4])\n",
    "    return round(sum(lower_education_rich), 1) * 100\n"
   ]
  },
  {
   "cell_type": "code",
   "execution_count": 265,
   "metadata": {},
   "outputs": [
    {
     "output_type": "execute_result",
     "data": {
      "text/plain": [
       "10.0"
      ]
     },
     "metadata": {},
     "execution_count": 265
    }
   ],
   "source": [
    "test1 = higher_education(df2)\n",
    "test1"
   ]
  },
  {
   "cell_type": "code",
   "execution_count": 264,
   "metadata": {},
   "outputs": [
    {
     "output_type": "execute_result",
     "data": {
      "text/plain": [
       "60.0"
      ]
     },
     "metadata": {},
     "execution_count": 264
    }
   ],
   "source": [
    "test2 = lower_education(df2)\n",
    "test2"
   ]
  },
  {
   "source": [
    "# Question 5\n",
    "\n",
    "What is the minimum number of hours a person works per week (hours-per-week feature)?"
   ],
   "cell_type": "markdown",
   "metadata": {}
  },
  {
   "cell_type": "code",
   "execution_count": 87,
   "metadata": {},
   "outputs": [
    {
     "output_type": "execute_result",
     "data": {
      "text/plain": [
       "       salary\n",
       "<=50K      18\n",
       ">50K        2"
      ],
      "text/html": "<div>\n<style scoped>\n    .dataframe tbody tr th:only-of-type {\n        vertical-align: middle;\n    }\n\n    .dataframe tbody tr th {\n        vertical-align: top;\n    }\n\n    .dataframe thead th {\n        text-align: right;\n    }\n</style>\n<table border=\"1\" class=\"dataframe\">\n  <thead>\n    <tr style=\"text-align: right;\">\n      <th></th>\n      <th>salary</th>\n    </tr>\n  </thead>\n  <tbody>\n    <tr>\n      <th>&lt;=50K</th>\n      <td>18</td>\n    </tr>\n    <tr>\n      <th>&gt;50K</th>\n      <td>2</td>\n    </tr>\n  </tbody>\n</table>\n</div>"
     },
     "metadata": {},
     "execution_count": 87
    }
   ],
   "source": [
    "min_hr = pd.DataFrame(df[df['hours-per-week']== 1]['salary'].value_counts()) \n",
    "min_hr"
   ]
  },
  {
   "cell_type": "code",
   "execution_count": 97,
   "metadata": {},
   "outputs": [],
   "source": [
    "def percentage (data):\n",
    "    '''\n",
    "    A function to calculate percentage.\n",
    "\n",
    "    '''\n",
    "    col = data.columns\n",
    "    data['percentage'] = data[col[0]]/data[col[0]].sum() * 100\n",
    "    return pd.DataFrame(data['percentage']) \n"
   ]
  },
  {
   "cell_type": "code",
   "execution_count": 100,
   "metadata": {},
   "outputs": [
    {
     "output_type": "execute_result",
     "data": {
      "text/plain": [
       "      percentage\n",
       ">50K        10.0"
      ],
      "text/html": "<div>\n<style scoped>\n    .dataframe tbody tr th:only-of-type {\n        vertical-align: middle;\n    }\n\n    .dataframe tbody tr th {\n        vertical-align: top;\n    }\n\n    .dataframe thead th {\n        text-align: right;\n    }\n</style>\n<table border=\"1\" class=\"dataframe\">\n  <thead>\n    <tr style=\"text-align: right;\">\n      <th></th>\n      <th>percentage</th>\n    </tr>\n  </thead>\n  <tbody>\n    <tr>\n      <th>&gt;50K</th>\n      <td>10.0</td>\n    </tr>\n  </tbody>\n</table>\n</div>"
     },
     "metadata": {},
     "execution_count": 100
    }
   ],
   "source": [
    "test = percentage(min_hr)\n",
    "result = test.loc['>50K':]\n",
    "result"
   ]
  },
  {
   "source": [
    "# Question 6\n",
    "\n",
    "What country has the highest percentage of people that earn >50K and what is that percentage?"
   ],
   "cell_type": "markdown",
   "metadata": {}
  },
  {
   "cell_type": "code",
   "execution_count": 242,
   "metadata": {},
   "outputs": [],
   "source": [
    "def create_data(data):\n",
    "    '''\n",
    "    A function to create new df's\n",
    "    '''\n",
    "    countries = pd.DataFrame(data['native-country'].value_counts()).reset_index().rename({'index':'native-country', 'native-country': 'value'}, axis=1).sort_values('native-country')\n",
    "    countries_salary = pd.DataFrame(data[['native-country', 'salary']].value_counts()).rename(columns={0:'counts'}).reset_index().sort_values('native-country')\n",
    "    countries_salary = countries_salary[countries_salary['salary'] == '>50K']\n",
    "\n",
    "    return countries, countries_salary\n"
   ]
  },
  {
   "cell_type": "code",
   "execution_count": null,
   "metadata": {},
   "outputs": [],
   "source": []
  },
  {
   "cell_type": "code",
   "execution_count": 253,
   "metadata": {},
   "outputs": [],
   "source": [
    "def highest_percentage(data):\n",
    "    '''\n",
    "    This function returns the country\n",
    "    with the highest_percentage over fifty thousand dollars\n",
    "    '''\n",
    "    data_merge = create_data(data)\n",
    "    new_df = data_merge[0].merge(data_merge[1])\n",
    "    new_df['percentage'] = new_df['counts'] * 100 / new_df['value']\n",
    "    highest_score = max(new_df['percentage'])\n",
    "    return round(highest_score, 1), new_df\n"
   ]
  },
  {
   "cell_type": "code",
   "execution_count": 254,
   "metadata": {},
   "outputs": [],
   "source": [
    "def richest_country(data):\n",
    "    '''\n",
    "    This function returns the name of the country \n",
    "    with the highest percentage of rich workers\n",
    "    '''\n",
    "    result = highest_percentage(data)\n",
    "    richest_country = ''\n",
    "    country_list = result[1]['native-country'].unique()\n",
    "    for country in country_list:\n",
    "        '''\n",
    "        I am using itertuples to loop through the rows\n",
    "        '''\n",
    "        for row in result[1].itertuples():\n",
    "            if row[1] == country and row[5] == highest_score:\n",
    "                richest_country = country\n",
    "                break\n",
    "    return richest_country"
   ]
  },
  {
   "cell_type": "code",
   "execution_count": 255,
   "metadata": {},
   "outputs": [
    {
     "output_type": "execute_result",
     "data": {
      "text/plain": [
       "'Iran'"
      ]
     },
     "metadata": {},
     "execution_count": 255
    }
   ],
   "source": [
    "richest = richest_country(df)\n",
    "richest"
   ]
  },
  {
   "source": [
    "# Question 7\n",
    "\n",
    "Identify the most popular occupation for those who earn >50K in India. "
   ],
   "cell_type": "markdown",
   "metadata": {}
  },
  {
   "cell_type": "code",
   "execution_count": null,
   "metadata": {},
   "outputs": [],
   "source": []
  },
  {
   "cell_type": "code",
   "execution_count": 163,
   "metadata": {},
   "outputs": [
    {
     "output_type": "execute_result",
     "data": {
      "text/plain": [
       "'Prof-specialty'"
      ]
     },
     "metadata": {},
     "execution_count": 163
    }
   ],
   "source": [
    "que_7 = df[df['native-country'] == 'India']\n",
    "que_7 = que_7[que_7['salary'] == '>50K']\n",
    "que_7 = pd.DataFrame(que_7[['occupation', 'salary']])\n",
    "que_7 = pd.DataFrame(que_7.value_counts()).rename({0:'counts'}, axis=1).reset_index()\n",
    "answer = que_7[que_7['counts'] == 25]\n",
    "answer = answer['occupation'].tolist()\n",
    "answer[0]"
   ]
  },
  {
   "cell_type": "code",
   "execution_count": null,
   "metadata": {},
   "outputs": [],
   "source": [
    "que_7 = max(que_7[0])\n",
    "que_7"
   ]
  }
 ]
}