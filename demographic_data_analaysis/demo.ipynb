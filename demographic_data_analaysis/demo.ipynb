{
 "metadata": {
  "language_info": {
   "codemirror_mode": {
    "name": "ipython",
    "version": 3
   },
   "file_extension": ".py",
   "mimetype": "text/x-python",
   "name": "python",
   "nbconvert_exporter": "python",
   "pygments_lexer": "ipython3",
   "version": "3.8.5-final"
  },
  "orig_nbformat": 2,
  "kernelspec": {
   "name": "chu_university_venv",
   "display_name": "Chu_University_venv",
   "language": "python"
  }
 },
 "nbformat": 4,
 "nbformat_minor": 2,
 "cells": [
  {
   "cell_type": "code",
   "execution_count": 1,
   "metadata": {},
   "outputs": [],
   "source": [
    "# Import libraries\n",
    "\n",
    "import pandas as pd"
   ]
  },
  {
   "cell_type": "code",
   "execution_count": 33,
   "metadata": {},
   "outputs": [
    {
     "output_type": "execute_result",
     "data": {
      "text/plain": [
       "       age     workclass  fnlwgt   education  education-num  \\\n",
       "32556   27       Private  257302  Assoc-acdm             12   \n",
       "32557   40       Private  154374     HS-grad              9   \n",
       "32558   58       Private  151910     HS-grad              9   \n",
       "32559   22       Private  201490     HS-grad              9   \n",
       "32560   52  Self-emp-inc  287927     HS-grad              9   \n",
       "\n",
       "           marital-status         occupation relationship   race     sex  \\\n",
       "32556  Married-civ-spouse       Tech-support         Wife  White  Female   \n",
       "32557  Married-civ-spouse  Machine-op-inspct      Husband  White    Male   \n",
       "32558             Widowed       Adm-clerical    Unmarried  White  Female   \n",
       "32559       Never-married       Adm-clerical    Own-child  White    Male   \n",
       "32560  Married-civ-spouse    Exec-managerial         Wife  White  Female   \n",
       "\n",
       "       capital-gain  capital-loss  hours-per-week native-country salary  \n",
       "32556             0             0              38  United-States  <=50K  \n",
       "32557             0             0              40  United-States   >50K  \n",
       "32558             0             0              40  United-States  <=50K  \n",
       "32559             0             0              20  United-States  <=50K  \n",
       "32560         15024             0              40  United-States   >50K  "
      ],
      "text/html": "<div>\n<style scoped>\n    .dataframe tbody tr th:only-of-type {\n        vertical-align: middle;\n    }\n\n    .dataframe tbody tr th {\n        vertical-align: top;\n    }\n\n    .dataframe thead th {\n        text-align: right;\n    }\n</style>\n<table border=\"1\" class=\"dataframe\">\n  <thead>\n    <tr style=\"text-align: right;\">\n      <th></th>\n      <th>age</th>\n      <th>workclass</th>\n      <th>fnlwgt</th>\n      <th>education</th>\n      <th>education-num</th>\n      <th>marital-status</th>\n      <th>occupation</th>\n      <th>relationship</th>\n      <th>race</th>\n      <th>sex</th>\n      <th>capital-gain</th>\n      <th>capital-loss</th>\n      <th>hours-per-week</th>\n      <th>native-country</th>\n      <th>salary</th>\n    </tr>\n  </thead>\n  <tbody>\n    <tr>\n      <th>32556</th>\n      <td>27</td>\n      <td>Private</td>\n      <td>257302</td>\n      <td>Assoc-acdm</td>\n      <td>12</td>\n      <td>Married-civ-spouse</td>\n      <td>Tech-support</td>\n      <td>Wife</td>\n      <td>White</td>\n      <td>Female</td>\n      <td>0</td>\n      <td>0</td>\n      <td>38</td>\n      <td>United-States</td>\n      <td>&lt;=50K</td>\n    </tr>\n    <tr>\n      <th>32557</th>\n      <td>40</td>\n      <td>Private</td>\n      <td>154374</td>\n      <td>HS-grad</td>\n      <td>9</td>\n      <td>Married-civ-spouse</td>\n      <td>Machine-op-inspct</td>\n      <td>Husband</td>\n      <td>White</td>\n      <td>Male</td>\n      <td>0</td>\n      <td>0</td>\n      <td>40</td>\n      <td>United-States</td>\n      <td>&gt;50K</td>\n    </tr>\n    <tr>\n      <th>32558</th>\n      <td>58</td>\n      <td>Private</td>\n      <td>151910</td>\n      <td>HS-grad</td>\n      <td>9</td>\n      <td>Widowed</td>\n      <td>Adm-clerical</td>\n      <td>Unmarried</td>\n      <td>White</td>\n      <td>Female</td>\n      <td>0</td>\n      <td>0</td>\n      <td>40</td>\n      <td>United-States</td>\n      <td>&lt;=50K</td>\n    </tr>\n    <tr>\n      <th>32559</th>\n      <td>22</td>\n      <td>Private</td>\n      <td>201490</td>\n      <td>HS-grad</td>\n      <td>9</td>\n      <td>Never-married</td>\n      <td>Adm-clerical</td>\n      <td>Own-child</td>\n      <td>White</td>\n      <td>Male</td>\n      <td>0</td>\n      <td>0</td>\n      <td>20</td>\n      <td>United-States</td>\n      <td>&lt;=50K</td>\n    </tr>\n    <tr>\n      <th>32560</th>\n      <td>52</td>\n      <td>Self-emp-inc</td>\n      <td>287927</td>\n      <td>HS-grad</td>\n      <td>9</td>\n      <td>Married-civ-spouse</td>\n      <td>Exec-managerial</td>\n      <td>Wife</td>\n      <td>White</td>\n      <td>Female</td>\n      <td>15024</td>\n      <td>0</td>\n      <td>40</td>\n      <td>United-States</td>\n      <td>&gt;50K</td>\n    </tr>\n  </tbody>\n</table>\n</div>"
     },
     "metadata": {},
     "execution_count": 33
    }
   ],
   "source": [
    "df = pd.read_csv(\"adult.data.csv\")\n",
    "df.tail()"
   ]
  },
  {
   "cell_type": "code",
   "execution_count": 3,
   "metadata": {},
   "outputs": [
    {
     "output_type": "execute_result",
     "data": {
      "text/plain": [
       "                  count           mean            std      min       25%  \\\n",
       "age             32561.0      38.581647      13.640433     17.0      28.0   \n",
       "fnlwgt          32561.0  189778.366512  105549.977697  12285.0  117827.0   \n",
       "education-num   32561.0      10.080679       2.572720      1.0       9.0   \n",
       "capital-gain    32561.0    1077.648844    7385.292085      0.0       0.0   \n",
       "capital-loss    32561.0      87.303830     402.960219      0.0       0.0   \n",
       "hours-per-week  32561.0      40.437456      12.347429      1.0      40.0   \n",
       "\n",
       "                     50%       75%        max  \n",
       "age                 37.0      48.0       90.0  \n",
       "fnlwgt          178356.0  237051.0  1484705.0  \n",
       "education-num       10.0      12.0       16.0  \n",
       "capital-gain         0.0       0.0    99999.0  \n",
       "capital-loss         0.0       0.0     4356.0  \n",
       "hours-per-week      40.0      45.0       99.0  "
      ],
      "text/html": "<div>\n<style scoped>\n    .dataframe tbody tr th:only-of-type {\n        vertical-align: middle;\n    }\n\n    .dataframe tbody tr th {\n        vertical-align: top;\n    }\n\n    .dataframe thead th {\n        text-align: right;\n    }\n</style>\n<table border=\"1\" class=\"dataframe\">\n  <thead>\n    <tr style=\"text-align: right;\">\n      <th></th>\n      <th>count</th>\n      <th>mean</th>\n      <th>std</th>\n      <th>min</th>\n      <th>25%</th>\n      <th>50%</th>\n      <th>75%</th>\n      <th>max</th>\n    </tr>\n  </thead>\n  <tbody>\n    <tr>\n      <th>age</th>\n      <td>32561.0</td>\n      <td>38.581647</td>\n      <td>13.640433</td>\n      <td>17.0</td>\n      <td>28.0</td>\n      <td>37.0</td>\n      <td>48.0</td>\n      <td>90.0</td>\n    </tr>\n    <tr>\n      <th>fnlwgt</th>\n      <td>32561.0</td>\n      <td>189778.366512</td>\n      <td>105549.977697</td>\n      <td>12285.0</td>\n      <td>117827.0</td>\n      <td>178356.0</td>\n      <td>237051.0</td>\n      <td>1484705.0</td>\n    </tr>\n    <tr>\n      <th>education-num</th>\n      <td>32561.0</td>\n      <td>10.080679</td>\n      <td>2.572720</td>\n      <td>1.0</td>\n      <td>9.0</td>\n      <td>10.0</td>\n      <td>12.0</td>\n      <td>16.0</td>\n    </tr>\n    <tr>\n      <th>capital-gain</th>\n      <td>32561.0</td>\n      <td>1077.648844</td>\n      <td>7385.292085</td>\n      <td>0.0</td>\n      <td>0.0</td>\n      <td>0.0</td>\n      <td>0.0</td>\n      <td>99999.0</td>\n    </tr>\n    <tr>\n      <th>capital-loss</th>\n      <td>32561.0</td>\n      <td>87.303830</td>\n      <td>402.960219</td>\n      <td>0.0</td>\n      <td>0.0</td>\n      <td>0.0</td>\n      <td>0.0</td>\n      <td>4356.0</td>\n    </tr>\n    <tr>\n      <th>hours-per-week</th>\n      <td>32561.0</td>\n      <td>40.437456</td>\n      <td>12.347429</td>\n      <td>1.0</td>\n      <td>40.0</td>\n      <td>40.0</td>\n      <td>45.0</td>\n      <td>99.0</td>\n    </tr>\n  </tbody>\n</table>\n</div>"
     },
     "metadata": {},
     "execution_count": 3
    }
   ],
   "source": [
    "df.describe().transpose()"
   ]
  },
  {
   "source": [
    "# Question 1\n",
    "\n",
    "How many people of each race are represented in this dataset? \n",
    "This should be a Pandas series with race names as the index labels. \n",
    "(`race` column)\n"
   ],
   "cell_type": "markdown",
   "metadata": {}
  },
  {
   "cell_type": "code",
   "execution_count": 74,
   "metadata": {},
   "outputs": [
    {
     "output_type": "execute_result",
     "data": {
      "text/plain": [
       "[27816, 3124, 1039, 311, 271]"
      ]
     },
     "metadata": {},
     "execution_count": 74
    }
   ],
   "source": [
    "race = df['race'].value_counts()\n",
    "race\n"
   ]
  },
  {
   "source": [
    "# Qustion 2\n",
    "What is the average age of men?\n"
   ],
   "cell_type": "markdown",
   "metadata": {}
  },
  {
   "cell_type": "code",
   "execution_count": 258,
   "metadata": {},
   "outputs": [
    {
     "output_type": "execute_result",
     "data": {
      "text/plain": [
       "39.4"
      ]
     },
     "metadata": {},
     "execution_count": 258
    }
   ],
   "source": [
    "men_data = df[df['sex'] == 'Male']\n",
    "round(men_data['age'].mean(), 1)\n"
   ]
  },
  {
   "source": [
    "# Question 3\n",
    "What is the percentage of people who have a Bachelor's degree?"
   ],
   "cell_type": "markdown",
   "metadata": {}
  },
  {
   "cell_type": "code",
   "execution_count": 78,
   "metadata": {},
   "outputs": [
    {
     "output_type": "execute_result",
     "data": {
      "text/plain": [
       "16.4"
      ]
     },
     "metadata": {},
     "execution_count": 78
    }
   ],
   "source": [
    "edu_percent = pd.DataFrame(df['education'].sort_values().value_counts())\n",
    "edu_percent['percentage'] = edu_percent['education']/edu_percent['education'].sum()\n",
    "bach = round(edu_percent['percentage'].loc['Bachelors'] * 100, 1)\n",
    "bach"
   ]
  },
  {
   "source": [
    "# Question 4\n",
    "\n",
    "What percentage of people with advanced education \n",
    "(`Bachelors`, `Masters`, or `Doctorate`) make more than 50K?"
   ],
   "cell_type": "markdown",
   "metadata": {}
  },
  {
   "cell_type": "code",
   "execution_count": 92,
   "metadata": {},
   "outputs": [
    {
     "output_type": "execute_result",
     "data": {
      "text/plain": [
       "       education salary  counts  percentage\n",
       "0        HS-grad  <=50K    8826   35.205425\n",
       "1   Some-college  <=50K    5904   23.550060\n",
       "2        HS-grad   >50K    1675    6.681292\n",
       "3   Some-college   >50K    1387    5.532509\n",
       "4           11th  <=50K    1115    4.447547\n",
       "5      Assoc-voc  <=50K    1021    4.072597\n",
       "6           10th  <=50K     871    3.474272\n",
       "7     Assoc-acdm  <=50K     802    3.199043\n",
       "8        7th-8th  <=50K     606    2.417232\n",
       "9            9th  <=50K     487    1.942561\n",
       "10   Prof-school   >50K     423    1.687276\n",
       "11          12th  <=50K     400    1.595533\n",
       "12     Assoc-voc   >50K     361    1.439968\n",
       "13       5th-6th  <=50K     317    1.264460\n",
       "14    Assoc-acdm   >50K     265    1.057040\n",
       "15       1st-4th  <=50K     162    0.646191\n",
       "16   Prof-school  <=50K     153    0.610291\n",
       "17          10th   >50K      62    0.247308\n",
       "18          11th   >50K      60    0.239330\n",
       "19     Preschool  <=50K      51    0.203430\n",
       "20       7th-8th   >50K      40    0.159553\n",
       "21          12th   >50K      33    0.131631\n",
       "22           9th   >50K      27    0.107698\n",
       "23       5th-6th   >50K      16    0.063821\n",
       "24       1st-4th   >50K       6    0.023933"
      ],
      "text/html": "<div>\n<style scoped>\n    .dataframe tbody tr th:only-of-type {\n        vertical-align: middle;\n    }\n\n    .dataframe tbody tr th {\n        vertical-align: top;\n    }\n\n    .dataframe thead th {\n        text-align: right;\n    }\n</style>\n<table border=\"1\" class=\"dataframe\">\n  <thead>\n    <tr style=\"text-align: right;\">\n      <th></th>\n      <th>education</th>\n      <th>salary</th>\n      <th>counts</th>\n      <th>percentage</th>\n    </tr>\n  </thead>\n  <tbody>\n    <tr>\n      <th>0</th>\n      <td>HS-grad</td>\n      <td>&lt;=50K</td>\n      <td>8826</td>\n      <td>35.205425</td>\n    </tr>\n    <tr>\n      <th>1</th>\n      <td>Some-college</td>\n      <td>&lt;=50K</td>\n      <td>5904</td>\n      <td>23.550060</td>\n    </tr>\n    <tr>\n      <th>2</th>\n      <td>HS-grad</td>\n      <td>&gt;50K</td>\n      <td>1675</td>\n      <td>6.681292</td>\n    </tr>\n    <tr>\n      <th>3</th>\n      <td>Some-college</td>\n      <td>&gt;50K</td>\n      <td>1387</td>\n      <td>5.532509</td>\n    </tr>\n    <tr>\n      <th>4</th>\n      <td>11th</td>\n      <td>&lt;=50K</td>\n      <td>1115</td>\n      <td>4.447547</td>\n    </tr>\n    <tr>\n      <th>5</th>\n      <td>Assoc-voc</td>\n      <td>&lt;=50K</td>\n      <td>1021</td>\n      <td>4.072597</td>\n    </tr>\n    <tr>\n      <th>6</th>\n      <td>10th</td>\n      <td>&lt;=50K</td>\n      <td>871</td>\n      <td>3.474272</td>\n    </tr>\n    <tr>\n      <th>7</th>\n      <td>Assoc-acdm</td>\n      <td>&lt;=50K</td>\n      <td>802</td>\n      <td>3.199043</td>\n    </tr>\n    <tr>\n      <th>8</th>\n      <td>7th-8th</td>\n      <td>&lt;=50K</td>\n      <td>606</td>\n      <td>2.417232</td>\n    </tr>\n    <tr>\n      <th>9</th>\n      <td>9th</td>\n      <td>&lt;=50K</td>\n      <td>487</td>\n      <td>1.942561</td>\n    </tr>\n    <tr>\n      <th>10</th>\n      <td>Prof-school</td>\n      <td>&gt;50K</td>\n      <td>423</td>\n      <td>1.687276</td>\n    </tr>\n    <tr>\n      <th>11</th>\n      <td>12th</td>\n      <td>&lt;=50K</td>\n      <td>400</td>\n      <td>1.595533</td>\n    </tr>\n    <tr>\n      <th>12</th>\n      <td>Assoc-voc</td>\n      <td>&gt;50K</td>\n      <td>361</td>\n      <td>1.439968</td>\n    </tr>\n    <tr>\n      <th>13</th>\n      <td>5th-6th</td>\n      <td>&lt;=50K</td>\n      <td>317</td>\n      <td>1.264460</td>\n    </tr>\n    <tr>\n      <th>14</th>\n      <td>Assoc-acdm</td>\n      <td>&gt;50K</td>\n      <td>265</td>\n      <td>1.057040</td>\n    </tr>\n    <tr>\n      <th>15</th>\n      <td>1st-4th</td>\n      <td>&lt;=50K</td>\n      <td>162</td>\n      <td>0.646191</td>\n    </tr>\n    <tr>\n      <th>16</th>\n      <td>Prof-school</td>\n      <td>&lt;=50K</td>\n      <td>153</td>\n      <td>0.610291</td>\n    </tr>\n    <tr>\n      <th>17</th>\n      <td>10th</td>\n      <td>&gt;50K</td>\n      <td>62</td>\n      <td>0.247308</td>\n    </tr>\n    <tr>\n      <th>18</th>\n      <td>11th</td>\n      <td>&gt;50K</td>\n      <td>60</td>\n      <td>0.239330</td>\n    </tr>\n    <tr>\n      <th>19</th>\n      <td>Preschool</td>\n      <td>&lt;=50K</td>\n      <td>51</td>\n      <td>0.203430</td>\n    </tr>\n    <tr>\n      <th>20</th>\n      <td>7th-8th</td>\n      <td>&gt;50K</td>\n      <td>40</td>\n      <td>0.159553</td>\n    </tr>\n    <tr>\n      <th>21</th>\n      <td>12th</td>\n      <td>&gt;50K</td>\n      <td>33</td>\n      <td>0.131631</td>\n    </tr>\n    <tr>\n      <th>22</th>\n      <td>9th</td>\n      <td>&gt;50K</td>\n      <td>27</td>\n      <td>0.107698</td>\n    </tr>\n    <tr>\n      <th>23</th>\n      <td>5th-6th</td>\n      <td>&gt;50K</td>\n      <td>16</td>\n      <td>0.063821</td>\n    </tr>\n    <tr>\n      <th>24</th>\n      <td>1st-4th</td>\n      <td>&gt;50K</td>\n      <td>6</td>\n      <td>0.023933</td>\n    </tr>\n  </tbody>\n</table>\n</div>"
     },
     "metadata": {},
     "execution_count": 92
    }
   ],
   "source": [
    "lower_degress = df[['education', 'salary']]\n",
    "degree_index = lower_degress[(lower_degress['education'] == 'Bachelors') | (lower_degress['education'] == 'Masters') | (lower_degress['education'] == 'Doctorate')].index\n",
    "lower_degress.drop(degree_index, inplace= True)\n",
    "lower_degress = pd.DataFrame(lower_degress.value_counts()).rename({0:'counts'},axis=1).reset_index()\n",
    "lower_degress['percentage'] = lower_degress['counts'] / lower_degress['counts'].sum() * 100\n",
    "lower_degress"
   ]
  },
  {
   "cell_type": "code",
   "execution_count": 94,
   "metadata": {},
   "outputs": [
    {
     "output_type": "execute_result",
     "data": {
      "text/plain": [
       "17.4"
      ]
     },
     "metadata": {},
     "execution_count": 94
    }
   ],
   "source": [
    "test = rich_percentage(lower_degress)\n",
    "test"
   ]
  },
  {
   "cell_type": "code",
   "execution_count": 40,
   "metadata": {},
   "outputs": [
    {
     "output_type": "execute_result",
     "data": {
      "text/plain": [
       "   education salary  counts  percentage\n",
       "0  Bachelors  <=50K    3134   41.836871\n",
       "1  Bachelors   >50K    2221   29.648912\n",
       "2    Masters   >50K     959   12.802029\n",
       "3    Masters  <=50K     764   10.198905\n",
       "4  Doctorate   >50K     306    4.084902\n",
       "5  Doctorate  <=50K     107    1.428381"
      ],
      "text/html": "<div>\n<style scoped>\n    .dataframe tbody tr th:only-of-type {\n        vertical-align: middle;\n    }\n\n    .dataframe tbody tr th {\n        vertical-align: top;\n    }\n\n    .dataframe thead th {\n        text-align: right;\n    }\n</style>\n<table border=\"1\" class=\"dataframe\">\n  <thead>\n    <tr style=\"text-align: right;\">\n      <th></th>\n      <th>education</th>\n      <th>salary</th>\n      <th>counts</th>\n      <th>percentage</th>\n    </tr>\n  </thead>\n  <tbody>\n    <tr>\n      <th>0</th>\n      <td>Bachelors</td>\n      <td>&lt;=50K</td>\n      <td>3134</td>\n      <td>41.836871</td>\n    </tr>\n    <tr>\n      <th>1</th>\n      <td>Bachelors</td>\n      <td>&gt;50K</td>\n      <td>2221</td>\n      <td>29.648912</td>\n    </tr>\n    <tr>\n      <th>2</th>\n      <td>Masters</td>\n      <td>&gt;50K</td>\n      <td>959</td>\n      <td>12.802029</td>\n    </tr>\n    <tr>\n      <th>3</th>\n      <td>Masters</td>\n      <td>&lt;=50K</td>\n      <td>764</td>\n      <td>10.198905</td>\n    </tr>\n    <tr>\n      <th>4</th>\n      <td>Doctorate</td>\n      <td>&gt;50K</td>\n      <td>306</td>\n      <td>4.084902</td>\n    </tr>\n    <tr>\n      <th>5</th>\n      <td>Doctorate</td>\n      <td>&lt;=50K</td>\n      <td>107</td>\n      <td>1.428381</td>\n    </tr>\n  </tbody>\n</table>\n</div>"
     },
     "metadata": {},
     "execution_count": 40
    }
   ],
   "source": [
    "# first_degree = df[df['education'] == 'Bachelors']\n",
    "advanced_degrees =  df[['education', 'salary']]\n",
    "advanced_degrees = pd.DataFrame(advanced_degrees[(advanced_degrees['education'] == 'Bachelors') | (advanced_degrees['education'] == 'Masters') | (advanced_degrees['education'] == 'Doctorate')].value_counts())\n",
    "advanced_degrees = advanced_degrees.rename({0:'counts'}, axis=1).reset_index()\n",
    "advanced_degrees['percentage'] = advanced_degrees['counts'] / advanced_degrees['counts'].sum() * 100\n",
    "advanced_degrees"
   ]
  },
  {
   "cell_type": "code",
   "execution_count": 93,
   "metadata": {},
   "outputs": [],
   "source": [
    "def rich_percentage (data):\n",
    "    '''\n",
    "    A simple function to calcluate the percentage\n",
    "    of workers with higher education qualifications\n",
    "    '''\n",
    "    answer = 0\n",
    "    for row in data.itertuples():\n",
    "        if row[2] == '>50K':\n",
    "            answer += row[4]\n",
    "    return round(answer, 1)\n"
   ]
  },
  {
   "cell_type": "code",
   "execution_count": 66,
   "metadata": {},
   "outputs": [
    {
     "output_type": "execute_result",
     "data": {
      "text/plain": [
       "46.5"
      ]
     },
     "metadata": {},
     "execution_count": 66
    }
   ],
   "source": [
    "test = higher_education_rich(advanced_degrees)\n",
    "test"
   ]
  },
  {
   "source": [
    "# Question 5\n",
    "\n",
    "What is the minimum number of hours a person works per week (hours-per-week feature)?"
   ],
   "cell_type": "markdown",
   "metadata": {}
  },
  {
   "cell_type": "code",
   "execution_count": 95,
   "metadata": {},
   "outputs": [
    {
     "output_type": "execute_result",
     "data": {
      "text/plain": [
       "1"
      ]
     },
     "metadata": {},
     "execution_count": 95
    }
   ],
   "source": [
    "min_work_hours = df['hours-per-week'].min()\n",
    "min_work_hours"
   ]
  },
  {
   "cell_type": "code",
   "execution_count": 96,
   "metadata": {},
   "outputs": [
    {
     "output_type": "execute_result",
     "data": {
      "text/plain": [
       "       salary\n",
       "<=50K      18\n",
       ">50K        2"
      ],
      "text/html": "<div>\n<style scoped>\n    .dataframe tbody tr th:only-of-type {\n        vertical-align: middle;\n    }\n\n    .dataframe tbody tr th {\n        vertical-align: top;\n    }\n\n    .dataframe thead th {\n        text-align: right;\n    }\n</style>\n<table border=\"1\" class=\"dataframe\">\n  <thead>\n    <tr style=\"text-align: right;\">\n      <th></th>\n      <th>salary</th>\n    </tr>\n  </thead>\n  <tbody>\n    <tr>\n      <th>&lt;=50K</th>\n      <td>18</td>\n    </tr>\n    <tr>\n      <th>&gt;50K</th>\n      <td>2</td>\n    </tr>\n  </tbody>\n</table>\n</div>"
     },
     "metadata": {},
     "execution_count": 96
    }
   ],
   "source": [
    "min_hr = pd.DataFrame(df[df['hours-per-week']== 1]['salary'].value_counts()) \n",
    "min_hr"
   ]
  },
  {
   "cell_type": "code",
   "execution_count": 97,
   "metadata": {},
   "outputs": [],
   "source": [
    "def percentage (data):\n",
    "    '''\n",
    "    A function to calculate percentage.\n",
    "\n",
    "    '''\n",
    "    col = data.columns\n",
    "    data['percentage'] = data[col[0]]/data[col[0]].sum() * 100\n",
    "    return pd.DataFrame(data['percentage']) \n"
   ]
  },
  {
   "cell_type": "code",
   "execution_count": 105,
   "metadata": {},
   "outputs": [
    {
     "output_type": "execute_result",
     "data": {
      "text/plain": [
       "10.0"
      ]
     },
     "metadata": {},
     "execution_count": 105
    }
   ],
   "source": [
    "test = percentage(min_hr)\n",
    "result = test.loc['>50K':]\n",
    "result['percentage'].min()"
   ]
  },
  {
   "source": [
    "# Question 6\n",
    "\n",
    "What country has the highest percentage of people that earn >50K and what is that percentage?"
   ],
   "cell_type": "markdown",
   "metadata": {}
  },
  {
   "cell_type": "code",
   "execution_count": 111,
   "metadata": {},
   "outputs": [],
   "source": [
    "def create_data(data):\n",
    "    '''\n",
    "    A function to create new df's\n",
    "    '''\n",
    "    countries = pd.DataFrame(data['native-country'].value_counts()).reset_index().rename({'index':'native-country', 'native-country': 'value'}, axis=1).sort_values('native-country')\n",
    "    countries_salary = pd.DataFrame(data[['native-country', 'salary']].value_counts()).rename(columns={0:'counts'}).reset_index().sort_values('native-country')\n",
    "    countries_salary = countries_salary[countries_salary['salary'] == '>50K']\n",
    "\n",
    "    return countries, countries_salary\n"
   ]
  },
  {
   "cell_type": "code",
   "execution_count": 130,
   "metadata": {},
   "outputs": [
    {
     "output_type": "execute_result",
     "data": {
      "text/plain": [
       "  native-country  value salary  counts  percentage\n",
       "0              ?    583   >50K     146   25.042882\n",
       "1       Cambodia     19   >50K       7   36.842105\n",
       "2         Canada    121   >50K      39   32.231405"
      ],
      "text/html": "<div>\n<style scoped>\n    .dataframe tbody tr th:only-of-type {\n        vertical-align: middle;\n    }\n\n    .dataframe tbody tr th {\n        vertical-align: top;\n    }\n\n    .dataframe thead th {\n        text-align: right;\n    }\n</style>\n<table border=\"1\" class=\"dataframe\">\n  <thead>\n    <tr style=\"text-align: right;\">\n      <th></th>\n      <th>native-country</th>\n      <th>value</th>\n      <th>salary</th>\n      <th>counts</th>\n      <th>percentage</th>\n    </tr>\n  </thead>\n  <tbody>\n    <tr>\n      <th>0</th>\n      <td>?</td>\n      <td>583</td>\n      <td>&gt;50K</td>\n      <td>146</td>\n      <td>25.042882</td>\n    </tr>\n    <tr>\n      <th>1</th>\n      <td>Cambodia</td>\n      <td>19</td>\n      <td>&gt;50K</td>\n      <td>7</td>\n      <td>36.842105</td>\n    </tr>\n    <tr>\n      <th>2</th>\n      <td>Canada</td>\n      <td>121</td>\n      <td>&gt;50K</td>\n      <td>39</td>\n      <td>32.231405</td>\n    </tr>\n  </tbody>\n</table>\n</div>"
     },
     "metadata": {},
     "execution_count": 130
    }
   ],
   "source": [
    "test = highest_percentage(df)\n",
    "test[1].head(3)"
   ]
  },
  {
   "cell_type": "code",
   "execution_count": 141,
   "metadata": {},
   "outputs": [],
   "source": [
    "def highest_percentage(data):\n",
    "    '''\n",
    "    This function returns the country\n",
    "    with the highest_percentage over fifty thousand dollars\n",
    "    '''\n",
    "    data_merge = create_data(data)\n",
    "    new_df = data_merge[0].merge(data_merge[1])\n",
    "    new_df['percentage'] = new_df['counts'] * 100 / new_df['value']\n",
    "    highest_score = max(new_df['percentage'])\n",
    "    return highest_score, new_df\n"
   ]
  },
  {
   "cell_type": "code",
   "execution_count": 131,
   "metadata": {},
   "outputs": [],
   "source": [
    "def richest_country(data):\n",
    "    '''\n",
    "    This function returns the name of the country \n",
    "    with the highest percentage of rich workers\n",
    "    '''\n",
    "    result = highest_percentage(data)\n",
    "    richest_country = ''\n",
    "    country_list = result[1]['native-country'].unique()\n",
    "    for country in country_list:\n",
    "        '''\n",
    "        I am using itertuples to loop through the rows\n",
    "        '''\n",
    "        for row in result[1].itertuples():\n",
    "            if row[1] == country and row[5] == result[0]:\n",
    "                richest_country = country\n",
    "                break\n",
    "    return richest_country"
   ]
  },
  {
   "cell_type": "code",
   "execution_count": 132,
   "metadata": {},
   "outputs": [
    {
     "output_type": "execute_result",
     "data": {
      "text/plain": [
       "''"
      ]
     },
     "metadata": {},
     "execution_count": 132
    }
   ],
   "source": [
    "richest = richest_country(df)\n",
    "richest"
   ]
  },
  {
   "source": [
    "# Question 7\n",
    "\n",
    "Identify the most popular occupation for those who earn >50K in India. "
   ],
   "cell_type": "markdown",
   "metadata": {}
  },
  {
   "cell_type": "code",
   "execution_count": null,
   "metadata": {},
   "outputs": [],
   "source": []
  },
  {
   "cell_type": "code",
   "execution_count": 163,
   "metadata": {},
   "outputs": [
    {
     "output_type": "execute_result",
     "data": {
      "text/plain": [
       "'Prof-specialty'"
      ]
     },
     "metadata": {},
     "execution_count": 163
    }
   ],
   "source": [
    "que_7 = df[df['native-country'] == 'India']\n",
    "que_7 = que_7[que_7['salary'] == '>50K']\n",
    "que_7 = pd.DataFrame(que_7[['occupation', 'salary']])\n",
    "que_7 = pd.DataFrame(que_7.value_counts()).rename({0:'counts'}, axis=1).reset_index()\n",
    "answer = que_7[que_7['counts'] == 25]\n",
    "answer = answer['occupation'].tolist()\n",
    "answer[0]"
   ]
  },
  {
   "cell_type": "code",
   "execution_count": null,
   "metadata": {},
   "outputs": [],
   "source": [
    "que_7 = max(que_7[0])\n",
    "que_7"
   ]
  }
 ]
}